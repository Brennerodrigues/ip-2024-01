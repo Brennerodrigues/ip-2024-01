{
  "nbformat": 4,
  "nbformat_minor": 0,
  "metadata": {
    "colab": {
      "provenance": [],
      "authorship_tag": "ABX9TyOxSJUfxCBWN2Ejuj80me60",
      "include_colab_link": true
    },
    "kernelspec": {
      "name": "python3",
      "display_name": "Python 3"
    },
    "language_info": {
      "name": "python"
    }
  },
  "cells": [
    {
      "cell_type": "markdown",
      "metadata": {
        "id": "view-in-github",
        "colab_type": "text"
      },
      "source": [
        "<a href=\"https://colab.research.google.com/github/Brennerodrigues/ip-2024-01/blob/main/Lista01-GO.ipynb\" target=\"_parent\"><img src=\"https://colab.research.google.com/assets/colab-badge.svg\" alt=\"Open In Colab\"/></a>"
      ]
    },
    {
      "cell_type": "markdown",
      "source": [
        "01"
      ],
      "metadata": {
        "id": "uivnFFOll9fd"
      }
    },
    {
      "cell_type": "code",
      "source": [
        "package main\n",
        "import \"fmt\"\n",
        "\n",
        "func main() {\n",
        "\n",
        "    var n1, n2, n3, Media float64\n",
        "\n",
        "    fmt.Println(\"informe a primeira nota:\")\n",
        "    fmt.Scanln(&n1)\n",
        "    fmt.Println(\"informe a segunda nota:\")\n",
        "    fmt.Scanln(&n2)\n",
        "    fmt.Println(\"informe a terceira nota:\")\n",
        "    fmt.Scanln(&n3)\n",
        "        Media = (n1 + n2 + n3)/3\n",
        "\n",
        "        if(Media >= 6){\n",
        "\n",
        "            fmt.Println(\"Media:\", Media)\n",
        "            fmt.Println(\"Aprovado\")\n",
        "}\n",
        "        if(Media < 6) {\n",
        "\n",
        "            fmt.Println(\"Media:\", Media)\n",
        "            fmt.Println(\"Reprovado\")\n",
        "        }\n",
        "}\n"
      ],
      "metadata": {
        "id": "Nx1MIuXqpOOU"
      },
      "execution_count": null,
      "outputs": []
    },
    {
      "cell_type": "markdown",
      "source": [
        "02"
      ],
      "metadata": {
        "id": "Ga1DPm3Ll-n8"
      }
    },
    {
      "cell_type": "code",
      "source": [
        "package main\n",
        "import \"fmt\"\n",
        "\n",
        "func main() {\n",
        "\n",
        "    var n1, n2, n3 int\n",
        "    fmt.Println(\"digite o primeiro numero:\")\n",
        "    fmt.Scanln(&n1)\n",
        "    fmt.Println(\"digite o segundo numero:\")\n",
        "    fmt.Scanln(&n2)\n",
        "    fmt.Println(\"digite o terceiro numero:\")\n",
        "    fmt.Scanln(&n3)\n",
        "\n",
        "    if n1 != n2 && n2 != n3 && n1!=n3{\n",
        "    if n1<n2 && n1<n3 && n2<n3 {\n",
        "        fmt.Println(n1, n2, n3)\n",
        "\n",
        "    }\n",
        "    if n1<n2 && n1>n3 && n2>n3 {\n",
        "        fmt.Println(n3, n1, n2)\n",
        "\n",
        "    }\n",
        "    if n1>n2 && n1>n3 && n2<n3 {\n",
        "        fmt.Println(n2, n3, n1)\n",
        "\n",
        "    }\n",
        "    if n1>n2 && n1>n3 && n2>n3 {\n",
        "        fmt.Println(n3, n2, n1)\n",
        "\n",
        "    }\n",
        "    if n1<n2 && n1<n3 && n2>n3 {\n",
        "        fmt.Println(n1, n3, n2)\n",
        "\n",
        "    }\n",
        "    if n1>n2 && n1<n3 && n2<n3 {\n",
        "        fmt.Println(n2, n1, n3)\n",
        "}\n",
        "  }\n",
        "      if n1 == n2 || n3 == n2{\n",
        "        fmt.Println(\"dois ou mais numeros são iguais!!\")\n",
        "    }\n",
        "}"
      ],
      "metadata": {
        "id": "9okA67KKpOuM"
      },
      "execution_count": null,
      "outputs": []
    },
    {
      "cell_type": "markdown",
      "source": [
        "03"
      ],
      "metadata": {
        "id": "_AijkSsHmFdU"
      }
    },
    {
      "cell_type": "code",
      "source": [
        "package main\n",
        "import \"fmt\"\n",
        "\n",
        "func main() {\n",
        "    var n1, n2, n3, V, VV int\n",
        "    fmt.Println(\"informe o primeiro numero:\")\n",
        "    fmt.Scanln(&n1)\n",
        "    fmt.Println(\"informe o segundo numero:\")\n",
        "    fmt.Scanln(&n2)\n",
        "    fmt.Println(\"informe o terceiro numero:\")\n",
        "    fmt.Scanln(&n3)\n",
        "   if (n1<=9 && n2<=9 && n3<=9) {\n",
        "    V = (n1*100) + (n2*10) + (n3)\n",
        "    VV = V * V\n",
        "\n",
        "    fmt.Println(V, VV)\n",
        "\n",
        "   }\n",
        "    if(n1>9 || n2>9 || n3>9){\n",
        "        fmt.Println(\"Digito invalido\")\n",
        "    }\n",
        "}"
      ],
      "metadata": {
        "id": "KybKCAS3pPY8"
      },
      "execution_count": null,
      "outputs": []
    },
    {
      "cell_type": "markdown",
      "source": [
        "04"
      ],
      "metadata": {
        "id": "V7jCODgzmHJt"
      }
    },
    {
      "cell_type": "code",
      "source": [
        "package main\n",
        "import \"fmt\"\n",
        "\n",
        "func main() {\n",
        "    var s, kw, valorkw, valorcust, valordesc float64\n",
        "\n",
        "    fmt.Println(\"Quantidade de KW:\")\n",
        "    fmt.Scanln(&kw)\n",
        "    fmt.Println(\"informe o valor do salário:\")\n",
        "    fmt.Scanln(&s)\n",
        "\n",
        "   valorkw = (s * 0.7)/100\n",
        "   valorcust = valorkw * kw\n",
        "   valordesc = valorcust - (valorcust * 0.1)\n",
        "\n",
        "   fmt.Println(\"Custo por kW:\", valorkw)\n",
        "   fmt.Println(\"Custo do consumo:\", valorcust)\n",
        "   fmt.Println(\"Custo com desconto:\", valordesc)\n",
        "\n",
        "}"
      ],
      "metadata": {
        "id": "JKr46i_k09kb"
      },
      "execution_count": null,
      "outputs": []
    },
    {
      "cell_type": "markdown",
      "source": [
        "05"
      ],
      "metadata": {
        "id": "YdBM1P-DmIy1"
      }
    },
    {
      "cell_type": "code",
      "source": [
        "package main\n",
        "import \"fmt\"\n",
        "\n",
        "func main(){\n",
        "\n",
        "    var  n, i int\n",
        "    var q float64\n",
        "\n",
        "    fmt.Println(\"informe o numero da conta:\")\n",
        "    fmt.Scanln(&n)\n",
        "\n",
        "    fmt.Println(\"Quantidade de agua em metros cubicos:\")\n",
        "    fmt.Scanln(&q)\n",
        "\n",
        "    fmt.Println(\"Informe o numero correspondente a area: \\n 1- Residencial \\n 2- Comercial \\n 3- Industrial\")\n",
        "    fmt.Println(\"-----------------------------------\")\n",
        "    fmt.Scanln(&i)\n",
        "\n",
        "    switch i {\n",
        "    case 1:\n",
        "        VT := 5 + (q * 0.05)\n",
        "        fmt.Println(\"Conta:\", n, \"\\n valor da conta:\", VT)\n",
        "    case 2:\n",
        "        if(q<=80){\n",
        "            VT := (0.25 * q)\n",
        "        fmt.Println(\"Conta:\", n, \"\\nvalor da conta:\", VT)\n",
        "        }\n",
        "        if(q>80){\n",
        "            VT := 500 + (0.25 * q)\n",
        "        fmt.Println(\"Conta:\", n, \"\\n valor da conta:\", VT)\n",
        "        }\n",
        "    case 3:\n",
        "        if(q>100){\n",
        "            VT := 800 + (0.04 * q)\n",
        "        fmt.Println(\"Conta:\", n, \"\\nvalor da conta:\", VT)\n",
        "        }\n",
        "        if(q<=100){\n",
        "            VT := (0.04 * q)\n",
        "        fmt.Println(\"Conta:\", n, \"\\n valor da conta:\", VT)\n",
        "        }\n",
        "\n",
        "    }\n",
        "}"
      ],
      "metadata": {
        "id": "orBOuYAYE7m4"
      },
      "execution_count": null,
      "outputs": []
    },
    {
      "cell_type": "markdown",
      "source": [
        "06"
      ],
      "metadata": {
        "id": "9fdgz18AmcZd"
      }
    },
    {
      "cell_type": "code",
      "source": [
        "package main\n",
        "import \"fmt\"\n",
        "\n",
        "func main() {\n",
        "\n",
        "    var n int\n",
        "    var tf, tc float32\n",
        "\n",
        "    fmt.Println(\"informe a quantidade de conversões:\")\n",
        "    fmt.Scanln(&n)\n",
        "\n",
        "    for x := 0; x <= n; x++{\n",
        "\n",
        "        fmt.Println(\"Informe a temperatura em Fahrenheit a ser convertida:\")\n",
        "        fmt.Scanln(&tf)\n",
        "        tc = (5*(tf-32))/9\n",
        "        fmt.Println(tf, \"FAHRENHEIT EQUIVALE A\", tc, \"CELSIUS\")\n",
        "\n",
        "    }\n",
        "\n",
        "}"
      ],
      "metadata": {
        "id": "43qolVbFxRA7"
      },
      "execution_count": null,
      "outputs": []
    },
    {
      "cell_type": "markdown",
      "source": [
        "07"
      ],
      "metadata": {
        "id": "QFVxCUIVmKAt"
      }
    },
    {
      "cell_type": "code",
      "source": [
        "package main\n",
        "import \"fmt\"\n",
        "\n",
        "func main() {\n",
        "    var f, p float64\n",
        "    fmt.Println(\"Digite o valor em Fahrenheit:\")\n",
        "    fmt.Scanln(&f)\n",
        "    fmt.Println(\"Digite o valor em Polegadas:\")\n",
        "    fmt.Scanln(&p)\n",
        "\n",
        "    C := (( 5 * f ) - 160)/9\n",
        "    mm := p * 25.4\n",
        "\n",
        "    fmt.Println(\"O VALOR EM CELSIUS = \", C)\n",
        "    fmt.Println(\"A QUANTIDADE DE CHUVA E = \", mm)\n",
        "}"
      ],
      "metadata": {
        "id": "Pfze6vimU7Sv"
      },
      "execution_count": null,
      "outputs": []
    },
    {
      "cell_type": "markdown",
      "source": [
        "08"
      ],
      "metadata": {
        "id": "T78EVBiYmLg1"
      }
    },
    {
      "cell_type": "code",
      "source": [
        "package main\n",
        "import \"fmt\"\n",
        "import \"math\"\n",
        "\n",
        "func main() {\n",
        "    var r, a float64\n",
        "\n",
        "    pi := math.Pi\n",
        "\n",
        "    fmt.Println(\"Informe o raio :\")\n",
        "    fmt.Scanln(&r)\n",
        "    fmt.Println(\"Informe a altura:\")\n",
        "    fmt.Scanln(&a)\n",
        "\n",
        "   A := (2*pi*r*a)+ 2*(pi*r*r)\n",
        "   v := A * 100\n",
        "\n",
        "    fmt.Println(\"O VALOR DO CUSTO E = \", v)\n",
        "\n",
        "}"
      ],
      "metadata": {
        "id": "RA3MvX3x0Loj"
      },
      "execution_count": null,
      "outputs": []
    },
    {
      "cell_type": "markdown",
      "source": [
        "09"
      ],
      "metadata": {
        "id": "OmL0zkZ2mMfN"
      }
    },
    {
      "cell_type": "code",
      "source": [
        "package main\n",
        "import \"fmt\"\n",
        "\n",
        "func main() {\n",
        "    var a, b, c float64\n",
        "\n",
        "    fmt.Println(\"Informe o valor de A :\")\n",
        "    fmt.Scanln(&a)\n",
        "    fmt.Println(\"Informe o valor de B :\")\n",
        "    fmt.Scanln(&b)\n",
        "    fmt.Println(\"Informe o valor de C :\")\n",
        "    fmt.Scanln(&c)\n",
        "\n",
        "        D := ((b*b) - (4*a*c))\n",
        "\n",
        "    fmt.Println(\"O VALOR DE DELTA E = \", D)\n",
        "\n",
        "}"
      ],
      "metadata": {
        "id": "quCTq1Tc1oPK"
      },
      "execution_count": null,
      "outputs": []
    },
    {
      "cell_type": "markdown",
      "source": [
        "10"
      ],
      "metadata": {
        "id": "V7wc4-zLmNWd"
      }
    },
    {
      "cell_type": "code",
      "source": [
        "package main\n",
        "import \"fmt\"\n",
        "\n",
        "func main() {\n",
        "    var a, b, c, d float64\n",
        "\n",
        "    fmt.Println(\"Informe o valor de A :\")\n",
        "    fmt.Scanln(&a)\n",
        "    fmt.Println(\"Informe o valor de B :\")\n",
        "    fmt.Scanln(&b)\n",
        "    fmt.Println(\"Informe o valor de C :\")\n",
        "    fmt.Scanln(&c)\n",
        "    fmt.Println(\"Informe o valor de D :\")\n",
        "    fmt.Scanln(&d)\n",
        "\n",
        "        D := ((a*d) - (b*c))\n",
        "\n",
        "    fmt.Println(\"O VALOR DO DETERMINANTE E = \", D)\n",
        "\n",
        "}"
      ],
      "metadata": {
        "id": "7a1i5TEY2WG9"
      },
      "execution_count": null,
      "outputs": []
    },
    {
      "cell_type": "markdown",
      "source": [
        "11"
      ],
      "metadata": {
        "id": "4NHQ-EHCmOQd"
      }
    },
    {
      "cell_type": "code",
      "source": [
        "package main\n",
        "import \"fmt\"\n",
        "\n",
        "func main() {\n",
        "    var n int\n",
        "\n",
        "    fmt.Println(\"Informe o numero :\")\n",
        "    fmt.Scanln(&n)\n",
        "\n",
        "        if (n%3 == 0 && n%5  == 0){\n",
        "            fmt.Println(\"O NUMERO E DIVISIVEL!!\")\n",
        "        }\n",
        "\n",
        "        if (n%3 != 0 || n%5  != 0){\n",
        "            fmt.Println(\"O NUMERO NAO E DIVISIVEL!!\")\n",
        "        }\n",
        "}"
      ],
      "metadata": {
        "id": "j2a-RCdx5hvi"
      },
      "execution_count": null,
      "outputs": []
    },
    {
      "cell_type": "markdown",
      "source": [
        "12"
      ],
      "metadata": {
        "id": "l42I1NoKmPBN"
      }
    },
    {
      "cell_type": "code",
      "source": [
        "package main\n",
        "import \"fmt\"\n",
        "\n",
        "func main() {\n",
        "    var n int\n",
        "\n",
        "    fmt.Println(\"Informe o numero de horas :\")\n",
        "    fmt.Scanln(&n)\n",
        "\n",
        "        if (n<3){\n",
        "            N := n*5\n",
        "            fmt.Println(\"O VALOR A PAGAR E = \", N)\n",
        "        }\n",
        "\n",
        "        if (n>=3){\n",
        "            N := (n/3)*10 + 10\n",
        "            fmt.Println(\"O VALOR A PAGAR E = \", N)\n",
        "        }\n",
        "}"
      ],
      "metadata": {
        "id": "sCsdJmin50en"
      },
      "execution_count": null,
      "outputs": []
    },
    {
      "cell_type": "markdown",
      "source": [
        "13"
      ],
      "metadata": {
        "id": "UOTwfKbAmPy1"
      }
    },
    {
      "cell_type": "code",
      "source": [
        "package main\n",
        "import \"fmt\"\n",
        "\n",
        "func main() {\n",
        "    var n float64\n",
        "\n",
        "    fmt.Println(\"Informe a nota:\")\n",
        "    fmt.Scanln(&n)\n",
        "\n",
        "        if (n<=10 && n>=0){\n",
        "\n",
        "            if(n>=9 && n<=10){\n",
        "                fmt.Println(\"NOTA =\", n, \" CONCEITO = A\")\n",
        "            }\n",
        "            if(n>=7.5 && n<9){\n",
        "                fmt.Println(\"NOTA =\", n, \" CONCEITO = B\")\n",
        "            }\n",
        "            if(n>=6 && n<7.5){\n",
        "                fmt.Println(\"NOTA =\", n, \" CONCEITO = C\")\n",
        "            }\n",
        "            if(n>=0 && n<6){\n",
        "                fmt.Println(\"NOTA =\", n, \" CONCEITO = D\")\n",
        "            }\n",
        "        }\n",
        "\n",
        "        if (n>10 || n<0){\n",
        "\n",
        "            fmt.Println(\"Nota invalida!!\")\n",
        "        }\n",
        "}"
      ],
      "metadata": {
        "id": "sXOq6Z6dBNj2"
      },
      "execution_count": null,
      "outputs": []
    },
    {
      "cell_type": "markdown",
      "source": [
        "14"
      ],
      "metadata": {
        "id": "6-G5ZdRGmQoc"
      }
    },
    {
      "cell_type": "code",
      "source": [
        "package main\n",
        "import \"fmt\"\n",
        "import \"math\"\n",
        "\n",
        "func main() {\n",
        "    var a, aa float64\n",
        "\n",
        "    fmt.Println(\"Informe a altura:\")\n",
        "    fmt.Scanln(&a)\n",
        "    fmt.Println(\"Informe a aresta:\")\n",
        "    fmt.Scanln(&aa)\n",
        "\n",
        "        raiz := math.Sqrt(3)\n",
        "\n",
        "        Ab := (3*(aa*aa)*raiz)/2\n",
        "        V := (Ab * a)/3\n",
        "\n",
        "    fmt.Println(\"O VOLUME DA PIRAMIDE E =\", V, \"METROS CUBICOS\")\n",
        "\n",
        "}"
      ],
      "metadata": {
        "id": "3LtkFEBCIfvx"
      },
      "execution_count": null,
      "outputs": []
    },
    {
      "cell_type": "markdown",
      "source": [
        "15"
      ],
      "metadata": {
        "id": "IHlsF2n2mSCN"
      }
    },
    {
      "cell_type": "code",
      "source": [
        "package main\n",
        "import \"fmt\"\n",
        "\n",
        "func main() {\n",
        "    var n, x int\n",
        "\n",
        "    fmt.Println(\"Informe um numero:\")\n",
        "    fmt.Scanln(&n)\n",
        "\n",
        "    if(n>5 && n<2000){\n",
        "        for x=1; x<n; x++{\n",
        "\n",
        "            if(x%2 == 0){\n",
        "                fmt.Println(x,\"ˆ 2 =\", x*x)\n",
        "            }\n",
        "        }\n",
        "    }\n",
        "}"
      ],
      "metadata": {
        "id": "RTQMZM2mQLmV"
      },
      "execution_count": null,
      "outputs": []
    },
    {
      "cell_type": "markdown",
      "source": [
        "16"
      ],
      "metadata": {
        "id": "mzUYsopzmTMd"
      }
    },
    {
      "cell_type": "code",
      "source": [
        "package main\n",
        "import \"fmt\"\n",
        "\n",
        "func main() {\n",
        "    var s float64\n",
        "    fmt.Println(\"informe o salário: \")\n",
        "    fmt.Scanln(&s)\n",
        "\n",
        "    if s<=300{\n",
        "        S := s + s*0.5\n",
        "        fmt.Println(\"SALARIO COM REAJUSTE =\", S)\n",
        "    }\n",
        "     if s>300{\n",
        "        S := s + s*0.3\n",
        "        fmt.Println(\"SALARIO COM REAJUSTE =\", S)\n",
        "    }\n",
        "}"
      ],
      "metadata": {
        "id": "aoHbp3OkW2rW"
      },
      "execution_count": null,
      "outputs": []
    },
    {
      "cell_type": "markdown",
      "source": [
        "17"
      ],
      "metadata": {
        "id": "eLHSq3AKmULe"
      }
    },
    {
      "cell_type": "code",
      "source": [
        "package main\n",
        "import \"fmt\"\n",
        "\n",
        "func main() {\n",
        "    var n, x, i int\n",
        "\n",
        "    fmt.Println(\"Informe um numero:\")\n",
        "    fmt.Scanln(&n)\n",
        "\n",
        "    fmt.Println(\"Informe a quantidade de repetiçoes:\")\n",
        "    fmt.Scanln(&x)\n",
        "\n",
        "    if(n%2 == 0){\n",
        "        for i=n; i<=x; i++{\n",
        "\n",
        "                fmt.Println(i)\n",
        "\n",
        "        }\n",
        "    }\n",
        "    if(n%2 != 0){\n",
        "        fmt.Println(\"O PRIMEIRO NUMERO NAO E PAR\")\n",
        "\n",
        "    }\n",
        "\n",
        "\n",
        "}"
      ],
      "metadata": {
        "id": "JBd5HOoEW4zM"
      },
      "execution_count": null,
      "outputs": []
    },
    {
      "cell_type": "markdown",
      "source": [
        "18"
      ],
      "metadata": {
        "id": "WzK7c-7lmVEV"
      }
    },
    {
      "cell_type": "code",
      "source": [
        "package main\n",
        "import \"fmt\"\n",
        "\n",
        "func main() {\n",
        "    var n, r, e, i int\n",
        "\n",
        "    fmt.Println(\"Informe um numero inicial:\")\n",
        "    fmt.Scanln(&n)\n",
        "\n",
        "    fmt.Println(\"Informe a rasao:\")\n",
        "    fmt.Scanln(&r)\n",
        "\n",
        "    fmt.Println(\"Informe o numero de lementos:\")\n",
        "    fmt.Scanln(&e)\n",
        "\n",
        "        for i=1; i<= e ; i++{\n",
        "            n = n + r\n",
        "\n",
        "                fmt.Println(n)\n",
        "\n",
        "        }\n",
        "}"
      ],
      "metadata": {
        "id": "dnYmvBjwctJf"
      },
      "execution_count": null,
      "outputs": []
    },
    {
      "cell_type": "markdown",
      "source": [
        "19"
      ],
      "metadata": {
        "id": "R7qT8YEymWIV"
      }
    },
    {
      "cell_type": "code",
      "source": [
        "package main\n",
        "import \"fmt\"\n",
        "\n",
        "func main() {\n",
        "    var n int\n",
        "    var S float64\n",
        "    fmt.Print(\"Digite o valor de n:\")\n",
        "    fmt.Scan(&n)\n",
        "\n",
        "    for x := 1; x <= n; x++ {\n",
        "        S += 1.0 / float64(x)\n",
        "    }\n",
        "\n",
        "    fmt.Printf(\"A soma S é: %.2f\\n\", S)\n",
        "}"
      ],
      "metadata": {
        "id": "HYGhFMMDpLxt"
      },
      "execution_count": null,
      "outputs": []
    },
    {
      "cell_type": "markdown",
      "source": [
        "20"
      ],
      "metadata": {
        "id": "tIWGjzBYmXMl"
      }
    },
    {
      "cell_type": "code",
      "source": [
        "package main\n",
        "import \"fmt\"\n",
        "\n",
        "func main() {\n",
        "\n",
        "    var H, M, S int\n",
        "\n",
        "    fmt.Println(\"informe a quantidade de horas:\")\n",
        "    fmt.Scanln(&H)\n",
        "    fmt.Println(\"informe a quantidade de minutos:\")\n",
        "    fmt.Scanln(&M)\n",
        "    fmt.Println(\"informe a quantidade de segundos:\")\n",
        "    fmt.Scanln(&S)\n",
        "        ValorEmSegundos := (H * 3600)+(M * 60)+ S\n",
        "    fmt.Println(\"O TEMPO EM SEGUNDOS É:\", ValorEmSegundos)\n",
        "}\n"
      ],
      "metadata": {
        "id": "zbr1eqMDo_JH"
      },
      "execution_count": null,
      "outputs": []
    }
  ]
}