{
  "nbformat": 4,
  "nbformat_minor": 0,
  "metadata": {
    "colab": {
      "provenance": [],
      "authorship_tag": "ABX9TyOqdRpG+KbxIl6a8AThipQ3",
      "include_colab_link": true
    },
    "kernelspec": {
      "name": "python3",
      "display_name": "Python 3"
    },
    "language_info": {
      "name": "python"
    }
  },
  "cells": [
    {
      "cell_type": "markdown",
      "metadata": {
        "id": "view-in-github",
        "colab_type": "text"
      },
      "source": [
        "<a href=\"https://colab.research.google.com/github/Brennerodrigues/ip-2024-01/blob/main/IP_resolu%C3%A7%C3%B5es_lista_01.ipynb\" target=\"_parent\"><img src=\"https://colab.research.google.com/assets/colab-badge.svg\" alt=\"Open In Colab\"/></a>"
      ]
    },
    {
      "cell_type": "markdown",
      "source": [
        "**01 Aprovado ou Reprovado:**\n",
        "1. Declarar e recolher: Nota01, Nota02, Nota03 e Media;\n",
        "\n",
        "2. O codigo deve realizar: media = (a+b+c)/3 e fazer a verificação se o valor media e maior ou menor que 6;\n",
        "\n",
        "3. fazer a devolutiva da media, juntamente com a mensagem \"aprovado\" ou \"reprovado\", dependendo no valor tomado para \"media\"."
      ],
      "metadata": {
        "id": "tBS0yW9KG-OG"
      }
    },
    {
      "cell_type": "code",
      "source": [
        "package main\n",
        "import \"fmt\"\n",
        "\n",
        "func main() {\n",
        "\n",
        "    var n1, n2, n3, Media float64\n",
        "\n",
        "    fmt.Println(\"informe a primeira nota:\")\n",
        "    fmt.Scanln(&n1)\n",
        "    fmt.Println(\"informe a segunda nota:\")\n",
        "    fmt.Scanln(&n2)\n",
        "    fmt.Println(\"informe a terceira nota:\")\n",
        "    fmt.Scanln(&n3)\n",
        "        Media = (n1 + n2 + n3)/3\n",
        "\n",
        "        if(Media >= 6){\n",
        "\n",
        "            fmt.Println(\"Media:\", Media)\n",
        "            fmt.Println(\"Aprovado\")\n",
        "}\n",
        "        if(Media < 6) {\n",
        "\n",
        "            fmt.Println(\"Media:\", Media)\n",
        "            fmt.Println(\"Reprovado\")\n",
        "        }\n",
        "}\n"
      ],
      "metadata": {
        "id": "Nx1MIuXqpOOU"
      },
      "execution_count": null,
      "outputs": []
    },
    {
      "cell_type": "markdown",
      "source": [
        "**02 Arrecardação de jogos:**\n",
        "1. Declarar e recolher: NumeroDeJogos(int), TotalDePessoas(int), PorcentagemPopular(float), PorcentagemGeral(float), PorcentagemArquibancada(float), PorcentagemCadeiras(float);\n",
        "\n",
        "2. O progrma deve relizar: um looping declarado por NumeroDeJogos(int), que em cada jogo realiza ValorArrecrdado(float) = PorcentagemX * TotalDePessoas * VlorDaCtegoria * 0,01, em que \"x\" e a categoria a ser cobrada;\n",
        "\n",
        "3. Saída: \"A RENDA DO JOGO NumeroDoJogo(int) É: ValorArrecrdado\".\n",
        "   \n",
        "\n",
        "\n",
        "\n"
      ],
      "metadata": {
        "id": "6bDSHTn04Cxn"
      }
    },
    {
      "cell_type": "code",
      "source": [
        "package main\n",
        "import \"fmt\"\n",
        "\n",
        "func main() {\n",
        "\n",
        "    var n1, n2, n3 int\n",
        "    fmt.Println(\"digite o primeiro numero:\")\n",
        "    fmt.Scanln(&n1)\n",
        "    fmt.Println(\"digite o segundo numero:\")\n",
        "    fmt.Scanln(&n2)\n",
        "    fmt.Println(\"digite o terceiro numero:\")\n",
        "    fmt.Scanln(&n3)\n",
        "\n",
        "    if n1 != n2 && n2 != n3 && n1!=n3{\n",
        "    if n1<n2 && n1<n3 && n2<n3 {\n",
        "        fmt.Println(n1, n2, n3)\n",
        "\n",
        "    }\n",
        "    if n1<n2 && n1>n3 && n2>n3 {\n",
        "        fmt.Println(n3, n1, n2)\n",
        "\n",
        "    }\n",
        "    if n1>n2 && n1>n3 && n2<n3 {\n",
        "        fmt.Println(n2, n3, n1)\n",
        "\n",
        "    }\n",
        "    if n1>n2 && n1>n3 && n2>n3 {\n",
        "        fmt.Println(n3, n2, n1)\n",
        "\n",
        "    }\n",
        "    if n1<n2 && n1<n3 && n2>n3 {\n",
        "        fmt.Println(n1, n3, n2)\n",
        "\n",
        "    }\n",
        "    if n1>n2 && n1<n3 && n2<n3 {\n",
        "        fmt.Println(n2, n1, n3)\n",
        "\n",
        "    }\n",
        "\n",
        "    }\n",
        "      if n1 == n2 || n3 == n2{\n",
        "        fmt.Println(\"dois ou mais numeros são iguais!!\")\n",
        "    }\n",
        "}"
      ],
      "metadata": {
        "id": "9okA67KKpOuM"
      },
      "execution_count": null,
      "outputs": []
    },
    {
      "cell_type": "markdown",
      "source": [
        "**03 Composição inteira:**\n",
        "1. Devemos declarar tres numeros e a concatenação: n1(int), n2(int), n3(int) e Concatenação(int);\n",
        "\n",
        "2. o programa deve realizar: Concatenação = ((n1 * 100) + (n2 * 10) + n3), logo apos deve Declarar ConcatenaçãoAoQuadrado(int) e fazer ConcatenaçãoAoQuadrado = (Concatenação * Concatenação);\n",
        "\n",
        "3. Saída: Deve-se devolver ao usuário \" Concatenação(int), ConcatenaçãoAoQuadrado(int)\""
      ],
      "metadata": {
        "id": "Xz-tADp8YiVA"
      }
    },
    {
      "cell_type": "code",
      "source": [],
      "metadata": {
        "id": "KybKCAS3pPY8"
      },
      "execution_count": null,
      "outputs": []
    },
    {
      "cell_type": "markdown",
      "source": [
        "**04 Consumo de energia:**\n",
        "1. Devemos declarar dois valores que seram informados: SalarioMinimo(float) e KWGasto(float), e um fixo: Desconto(float);\n",
        "\n",
        "2. o programa deve realizar: ValorDoKw(float) = (SalarioMinimo * 0.7)/100, logo apos, declarar ValorTotalDaConta(float) = (ValorDoKw * KWGasto), apos, para o desconto, temos: ValorComDesconto(float) = (ValorTotalDaConta - ValorTotalDaConta * 0.1)\n",
        "\n",
        "3. Saída: Devolver ao usuário \"ValorDoKw(float) \\n ValorTotalDaConta(float) \\n ValorComDesconto(float)\""
      ],
      "metadata": {
        "id": "RiBTzRzpbtv3"
      }
    },
    {
      "cell_type": "markdown",
      "source": [
        "**05 Conta de Água:**\n",
        "1. devemos declarar duas variaveis: NumeroDaConta(int) e QuantidadeMetrosCubicos(float), e devera informar o tipo de consumidor dentre uma tabela pre definida(usando switch case)\n",
        "\n",
        "2. o programa deve efetuar: se for informado que o tipo de conta é residencial deve-se fazer \"ValorDaConta(float) = (QuantidadeMetrosCubicos * 0,05 + 5,00)\", se for comercial com a varivel QuantidadeMetrosCubicos > 80, temos \"ValorDaConta(float) = (QuantidadeMetrosCubicos * 0,25 + 500,00)\" ja se QuantidadeMetrosCubicos < 80, temos \"ValorDaConta(float) = 500,00\", e se for industrial e com a varivel QuantidadeMetrosCubicos > 100, temos \"ValorDaConta(float) = (QuantidadeMetrosCubicos * 0,04+ 800,00)\" ja se QuantidadeMetrosCubicos < 80, temos \"ValorDaConta(float) = 800,00\"\n",
        "\n",
        "3. Saída: \"NumeroDaConta(int) \\n ValorDaConta(float)\""
      ],
      "metadata": {
        "id": "bRKdCSamfGAH"
      }
    },
    {
      "cell_type": "markdown",
      "source": [
        "**06 Conversão de tempertura:**\n",
        "1. Devemos receber uma variavel: ValorFahrenheit(float)\n",
        "\n",
        "2. O que o progrma deve fazer: Um looping repetindo a seguinte expressão \"ValorCelsius(float) = (5*(ValorFahrenheit(float) - 32))/9\"\n",
        "\n",
        "3. Saída:\"ValorFahrenheit(float) FAHRENHEIT EQUIVALE A ValorCelsius(float)\n",
        "CELSIUS\" dentro de um looping"
      ],
      "metadata": {
        "id": "uEeHcpioYVGP"
      }
    },
    {
      "cell_type": "markdown",
      "source": [
        "**07 Conversões para o Sistema Métrico:**\n",
        "1. Ler duas variáveis: ValorFahrenheit(float) e ValorPolegada(float)\n",
        "\n",
        "2. O programa deve fazer: Para a conversão termica \"ValorCelsius(float) = (5*(ValorFahrenheit(float) - 160))/9\" e para a de medida \"ValorChuvaMilimetro(float) = ValorPolegada(float) * 25.4\"\n",
        "\n",
        "3. saída: : \"O VALOR EM CELSIUS = ValorCelsius(float) \\n A QUANTIDADE DE CHUVA E = ValorChuvaMilimetro(float)\"\n"
      ],
      "metadata": {
        "id": "NnJTw_SMagoC"
      }
    },
    {
      "cell_type": "markdown",
      "source": [
        "**08 Custo da Lata de Cerveja:**\n",
        "1. Receber dois valores: Raio(float) e Altura(float), além de declarar pi como 3.14159\n",
        "\n",
        "2. o programa deve fazer: \"ValorAreaTotal(float) = (2 * pi * Raio(float) * Altura(float) + 4 * pi * Raio(float)) * 100\"\n",
        "\n",
        "3. Saída: \"O VALOR DO CUSTO E = ValorAreaTotal(float)\"\n"
      ],
      "metadata": {
        "id": "ZTT9x_33dBSu"
      }
    },
    {
      "cell_type": "markdown",
      "source": [
        "**09 Cálculo do Delta na Equação de Báskara:**\n",
        "1. Ler tres variaveis: A(float),B(float) e C(float)\n",
        "\n",
        "2. O programa deve fazer: \"Descriminante(float) = ((B * B) - 4 * A * C)\"\n",
        "\n",
        "3. Saída: \"O VALOR DE DELTA E = Descriminante(float)\""
      ],
      "metadata": {
        "id": "8RljRutJfYOa"
      }
    },
    {
      "cell_type": "markdown",
      "source": [
        "**10 Cálculo do Determinante de uma Matriz Quadrada de Duas Dimensões:**\n",
        "1. Ler quatro variáveis: A(float), B(float), C(float) e D(float)\n",
        "\n",
        "2. O programa deve fazer: \"Determinante(float) = (A * D)-(B * C)\n",
        "\n",
        "3. Saída: \"O VALOR DO DETERMINANTE E = Determinante(float)\""
      ],
      "metadata": {
        "id": "M9BlA_c5heEO"
      }
    },
    {
      "cell_type": "markdown",
      "source": [
        "**11 Divisível por 3 e 5:**\n",
        "1. Ler uma variavel: Numero(int)\n",
        "\n",
        "2. O programa deve fazer: \"Numero(int) % 3 == 0\" o numero e divisível por 3, caso \"Numero(int) % 3 != 0\" o numero não é divisível por 3. \"Numero(int) % 5 == 0\" o numero e divisível por 5, caso \"Numero(int) % 5 != 0\" o numero não é divisível por 5. As duas condições podem ser feitas juntas.\n",
        "\n",
        "3. Saída: : \"O NUMERO E DIVISIVEL\", caso \"Numero(int) % 3 == 0\" e  \"Numero(int) % 5 == 0\". \"O NUMERO NAO E DIVISIVEL\", caso \"Numero(int) % 3 != 0\" e \"Numero(int) % 5 != 0\""
      ],
      "metadata": {
        "id": "ZRRSRIp7j8CL"
      }
    },
    {
      "cell_type": "markdown",
      "source": [
        "**12 Locadora de charretes:**\n",
        "1. Ler uma variável: NumeroDeHoras(float)\n",
        "\n",
        "2. O programa deve fazer: \"Valor(float) = NumeroDeHoras(float) * 5\" para NumeroDeHoras < 3, e \"Valor(float) = 10 + (NumeroDeHoras(float) * 10)\" para NumeroDeHoras >= 3\n",
        "\n",
        "3. Saída: \"O VALOR A PAGAR E = Valor(float)\""
      ],
      "metadata": {
        "id": "hyaeoWMh9j18"
      }
    },
    {
      "cell_type": "markdown",
      "source": [
        "**13 Conversão de Nota em Conceito:**\n",
        "1. Ler uma variável: Nota(float)\n",
        "\n",
        "2. O programa deve fazer: Imprimir Conceito(string)\"A\" caso \" Nota(float) > 9.0 || Nota(float) < 10\", Imprimir Conceito(string)\"B\" caso \" Nota(float) > 7.5 || Nota(float) < 9.0\", Imprimir Conceito(string)\"C\" caso \" Nota(float) > 6.0 || Nota(float) < 7.5\" e Imprimir Conceito(string)\"D\" caso \" Nota(float) > 0 || Nota(float) < 6.0\"\n",
        "\n",
        "3. Saída: \"NOTA = Nota(float)  CONCEITO = Conceito(string)\""
      ],
      "metadata": {
        "id": "9GS2yxHrDHn6"
      }
    },
    {
      "cell_type": "markdown",
      "source": [
        "**14 Volume da Pirâmide de Base Hexagonal:**\n",
        "1. Ler duas variáveis: Altura(float) e Haresta(float)\n",
        "\n",
        "2. O programa deve efetuar: \" AreaDaBase(float) = (3 * Haresta(float) * sqrt(3))/2\", logo apos, fazemos \" Volume(float) = (AreaDaBase(float) * Altura(float))/3\"\n",
        "\n",
        "3. Saída:: \"O VOLUME DA PIRAMIDE E = Volume(float) METROS CUBICOS\""
      ],
      "metadata": {
        "id": "061Zt07DGHI8"
      }
    },
    {
      "cell_type": "markdown",
      "source": [
        "**15 Quadrado de pares:**\n",
        "1. ler uma variável: Numero(int)\n",
        "\n",
        "2. O programa deve fazer: Um looping de verificação, com as seguintes expressões: uma condição \"Numero(int) % 2 == 0\", para determinar os numeros pares, fazer \"numeroPar(int) = Numero(int)\" e \"numeroPar(int) = numeroPar(int) / 2\", pra a sequencia dos numeros pares entre 5 e 2000, logo apos, fazer: \" ValorDoQuadrado(int) = numeroPar(int) * numeroPar(int)\"\n",
        "\n",
        "3. Saída: \"numeroPar(int) ˆ 2 = ValorDoQuadrado(int)\"\n"
      ],
      "metadata": {
        "id": "lvVFDwEbJCPo"
      }
    },
    {
      "cell_type": "markdown",
      "source": [
        "**16 Reajuste salarial:**\n",
        "1. Ler uma variável: Salario(float)\n",
        "\n",
        "2. o programa deve efetuar: Uma etapa condicional, se Salario(float) <= 300.00, temos: \"SalarioCReajuste(float) = Salario(float) + Salario(float) * 0.5\", se Salario(float) > 300.00, temos:\"SalarioCReajuste(float) = Salario(float) + Salario(float) * 0.3\"\n",
        "\n",
        "3. Saída: \"SALARIO COM REAJUSTE = SalarioCReajuste(float)\""
      ],
      "metadata": {
        "id": "lc_sUYYNYPD6"
      }
    },
    {
      "cell_type": "markdown",
      "source": [
        "**17 Série de pares:**\n",
        "1. Ler duas vriáveis: Numero(int) e Repeticao(int)\n",
        "\n",
        "2. O programa deve efetuar: Verificar se o numero é realmente par \"Numero(int) % 2 == 0\", apos a verificação o programa deve relizar looping que repetira de acordo com a variável Repeticao(int), fazendo a seguinte operação: \"Numero(int) = Numero(int) + 2\"\n",
        "\n",
        "3. Saída: se for par, temos \" Numero(int)\" , ja se for impar, temos \" O PRIMEIRO NUMERO NAO E PAR\"\n",
        "\n",
        "\n",
        "\n",
        "\n"
      ],
      "metadata": {
        "id": "jcN-CjxKZw0_"
      }
    },
    {
      "cell_type": "markdown",
      "source": [
        "**18 Soma de progressão aritmética:**\n",
        "1. Ler tres variáveis: NumeroDeElementos(int), ValorInicial(int) e Rasao(int)\n",
        "\n",
        "2. O programa deve fazer: primeiramente definir o valor de ValorInicial(int), e logo após um looping que se limete ao NumeroDeElementos(int) e que adicine ao ValorInicial(int) uma Rasao(int), declarando essa soma como ValorTotal(int)\n",
        "\n",
        "3. Saída: \"ValorTotal(int)\\n\""
      ],
      "metadata": {
        "id": "Nuy1IPE2fFvd"
      }
    },
    {
      "cell_type": "markdown",
      "source": [
        "**19 Somatório simples:**\n",
        "1. Ler uma variável: Numero(int)\n",
        "\n",
        "2. O programa deve fazer: se o Numero(int) > 1, declaramos uma outra variável que \"x(int)\" que faça o valor Numero(int) partir de 1 e ir até N, logo apos fazemos outro looping par somar os valores 1 + 1/2 + 1/3 + 1/4 + . . . + 1/n, que seram declarados como Soma(int). Se o Numero(int) < 1 deve ser impresso: \"Numero invalido!\"\n",
        "\n",
        "3. Saída:\"Soma(int)\"\n"
      ],
      "metadata": {
        "id": "ncE3y3RhSXqm"
      }
    },
    {
      "cell_type": "code",
      "source": [],
      "metadata": {
        "id": "HYGhFMMDpLxt"
      },
      "execution_count": null,
      "outputs": []
    },
    {
      "cell_type": "markdown",
      "source": [
        "**20 Tempo em segundos:**\n",
        "1. Ler tres variáveis: TempoHoras(int), TempoMinutos(int) e TempoSegundos(int)\n",
        "\n",
        "2. O programa deve fazer: \"SegundosTotais01(int)= TempoHoras(int) * 3600\", \"SegundosTotais02(int) = TempoMinutos(int) * 60\" e \"Segundostotais(int) = TempoSegundos(int) + SegundosTotais02(int) + SegundosTotais01(int)\"\n",
        "\n",
        "3. Saída: \"O TEMPO EM SEGUNDOS E = Segundostotais(int)\""
      ],
      "metadata": {
        "id": "UehC7MYtSsgE"
      }
    },
    {
      "cell_type": "code",
      "source": [
        "package main\n",
        "import \"fmt\"\n",
        "\n",
        "func main() {\n",
        "\n",
        "    var H, M, S int\n",
        "\n",
        "    fmt.Println(\"informe a quantidade de horas:\")\n",
        "    fmt.Scanln(&H)\n",
        "    fmt.Println(\"informe a quantidade de minutos:\")\n",
        "    fmt.Scanln(&M)\n",
        "    fmt.Println(\"informe a quantidade de segundos:\")\n",
        "    fmt.Scanln(&S)\n",
        "        ValorEmSegundos := (H * 3600)+(M * 60)+ S\n",
        "    fmt.Println(\"O TEMPO EM SEGUNDOS É:\", ValorEmSegundos)\n",
        "}\n"
      ],
      "metadata": {
        "id": "zbr1eqMDo_JH"
      },
      "execution_count": null,
      "outputs": []
    }
  ]
}