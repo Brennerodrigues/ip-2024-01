{
  "cells": [
    {
      "cell_type": "markdown",
      "metadata": {
        "id": "view-in-github",
        "colab_type": "text"
      },
      "source": [
        "<a href=\"https://colab.research.google.com/github/Brennerodrigues/ip-2024-01/blob/main/Lista02-GO.ipynb\" target=\"_parent\"><img src=\"https://colab.research.google.com/assets/colab-badge.svg\" alt=\"Open In Colab\"/></a>"
      ]
    },
    {
      "cell_type": "markdown",
      "source": [
        "01-"
      ],
      "metadata": {
        "id": "29R7JZVUvH8S"
      }
    },
    {
      "cell_type": "code",
      "source": [
        "package main\n",
        "import \"fmt\"\n",
        "\n",
        "func main() {\n",
        "\n",
        "    for x:=0; x<=1000; x++{\n",
        "\n",
        "    /***Matricula***/\n",
        "    var m int\n",
        "    fmt.Println(\"informe a matricula:\")\n",
        "    fmt.Scanln(&m)\n",
        "\n",
        "\n",
        "    /***nota prova***/\n",
        "    var p1, p2, p3, p4, p5, p6, p7, p8 float64\n",
        "    fmt.Println(\"Informe a nota da prova 1:\")\n",
        "    fmt.Scanln(&p1)\n",
        "    fmt.Println(\"Informe a nota da prova 2:\")\n",
        "    fmt.Scanln(&p2)\n",
        "    fmt.Println(\"Informe a nota da prova 3:\")\n",
        "    fmt.Scanln(&p3)\n",
        "    fmt.Println(\"Informe a nota da prova 4:\")\n",
        "    fmt.Scanln(&p4)\n",
        "    fmt.Println(\"Informe a nota da prova 5:\")\n",
        "    fmt.Scanln(&p5)\n",
        "    fmt.Println(\"Informe a nota da prova 6:\")\n",
        "    fmt.Scanln(&p6)\n",
        "    fmt.Println(\"Informe a nota da prova 7:\")\n",
        "    fmt.Scanln(&p7)\n",
        "    fmt.Println(\"Informe a nota da prova 8:\")\n",
        "    fmt.Scanln(&p8)\n",
        "\n",
        "    mp := (p1+p2+p3+p4+p5+p6+p7+p8)/8\n",
        "\n",
        "    /***NOTA LISTA***/\n",
        "    var l1, l2, l3, l4, l5 float64\n",
        "    fmt.Println(\"Informe a nota da lista 1:\")\n",
        "    fmt.Scanln(&l1)\n",
        "    fmt.Println(\"Informe a nota da lista 2:\")\n",
        "    fmt.Scanln(&l2)\n",
        "    fmt.Println(\"Informe a nota da lista 3:\")\n",
        "    fmt.Scanln(&l3)\n",
        "    fmt.Println(\"Informe a nota da lista 4:\")\n",
        "    fmt.Scanln(&l4)\n",
        "    fmt.Println(\"Informe a nota da lista 5:\")\n",
        "    fmt.Scanln(&l5)\n",
        "\n",
        "    ml := (l1+l2+l3+l4+l5)/5\n",
        "\n",
        "    /***NOTA trabalho***/\n",
        "    var t float64\n",
        "    fmt.Println(\"Informe a nota do trabalho final:\")\n",
        "    fmt.Scanln(&t)\n",
        "\n",
        "    /***presença***/\n",
        "    var p float64\n",
        "    fmt.Println(\"Informe a presença do aluno:\")\n",
        "    fmt.Scanln(&p)\n",
        "\n",
        "    /***NOTA FINAL***/\n",
        "    nf:= (0.7 * mp) + (0.15 * ml) + (0.15 * t)\n",
        "\n",
        "    if m==-1 && p1==-1 && p2==-1 && p3==-1 && p4==-1 && p5==-1 && p6==-1 && p7==-1 && p8==-1 && l1==-1 && l2==-1 && l3==-1 && l4==-1 && l5==-1 && t==-1 && p==-1{\n",
        "        return\n",
        "    }\n",
        "    cond(m, nf, p)\n",
        "    }\n",
        "\n",
        "}\n",
        "func cond(m int, nf, p float64){\n",
        "\n",
        "    /***condicoes***/\n",
        "    if(nf >= 6 && p > 96){\n",
        "\n",
        "        fmt.Println(\"Matricula:\", m, \"Nota final:\", nf, \"situaçao final: Aprovado\")\n",
        "    }\n",
        "\n",
        "    if(nf < 6 && p > 96){\n",
        "\n",
        "        fmt.Println(\"Matricula:\", m, \"Nota final:\", nf, \"situaçao final: Reprovado por nota\")\n",
        "    }\n",
        "\n",
        "    if(nf >= 6 && p < 96){\n",
        "\n",
        "        fmt.Println(\"Matricula:\", m, \"Nota final:\", nf, \"situaçao final: Reprovado por falta\")\n",
        "    }\n",
        "\n",
        "    if(nf < 6 && p < 96){\n",
        "\n",
        "        fmt.Println(\"Matricula:\", m, \"Nota final:\", nf, \"situaçao final: Reprovado por nota e falta\")\n",
        "    }\n",
        "  }"
      ],
      "metadata": {
        "id": "39qzohNXYUNZ"
      },
      "execution_count": null,
      "outputs": []
    },
    {
      "cell_type": "markdown",
      "source": [
        "02-"
      ],
      "metadata": {
        "id": "7YUY0zYhvPFC"
      }
    },
    {
      "cell_type": "code",
      "source": [
        "package main\n",
        "import \"fmt\"\n",
        "\n",
        "func main() {\n",
        "    var A, B float32, Anos int\n",
        "\n",
        "    fmt.Println(\"Informe a população do país A:\")\n",
        "    fmt.Scanln(&A)\n",
        "\n",
        "    fmt.Println(\"Informe a população do país B:\")\n",
        "    fmt.Scanln(&B)\n",
        "\n",
        "    for A <= B {\n",
        "        A = A * 1.03\n",
        "        B = B * 1.015\n",
        "        Anos++\n",
        "    }\n",
        "\n",
        "    fmt.Println(\"Anos = \", Anos)\n",
        "}"
      ],
      "metadata": {
        "id": "YoEwQze8Yqo_"
      },
      "execution_count": null,
      "outputs": []
    },
    {
      "cell_type": "markdown",
      "source": [
        "03-"
      ],
      "metadata": {
        "id": "KrUUIXLzvaMg"
      }
    },
    {
      "cell_type": "code",
      "source": [
        "package main\n",
        "import \"fmt\"\n",
        "\n",
        "func Fatorial(n int) int {\n",
        "    if n == 0 {\n",
        "        return 1\n",
        "    }\n",
        "\n",
        "    f := 1\n",
        "    for i := 1; i <= n; i++ {\n",
        "        f *= i\n",
        "    }\n",
        "    return f\n",
        "}\n",
        "\n",
        "func main() {\n",
        "    var n int\n",
        "    fmt.Print(\"Digite um número: \")\n",
        "    fmt.Scanln(&n)\n",
        "\n",
        "    res := Fatorial(n)\n",
        "    fmt.Printf(\"%d! = %d\\n\", n, res)\n",
        "}"
      ],
      "metadata": {
        "id": "1J561YJF4Jok"
      },
      "execution_count": null,
      "outputs": []
    },
    {
      "cell_type": "markdown",
      "source": [
        "04-"
      ],
      "metadata": {
        "id": "qsDSf7NLvbUI"
      }
    },
    {
      "cell_type": "code",
      "source": [
        "package main\n",
        "import \"fmt\"\n",
        "\n",
        "func main() {\n",
        "\n",
        "    var n, i, c float64\n",
        "    var q int\n",
        "    fmt.Println(\"Informe um numero:\")\n",
        "    fmt.Scanln(&n)\n",
        "    if(n<0 || n>9){\n",
        "        return\n",
        "    }\n",
        "\n",
        "    fmt.Println(\"Informe um numero a ser incrementado:\")\n",
        "    fmt.Scanln(&i)\n",
        "\n",
        "    fmt.Println(\"Informe a quantidade de repetiçoes:\")\n",
        "    fmt.Scanln(&q)\n",
        "\n",
        "    fmt.Println(\"Informe o incremento:\")\n",
        "    fmt.Scanln(&c)\n",
        "\n",
        "    if (n>=0 && n<=9){\n",
        "\n",
        "        fmt.Println(\"Tabuada de soma:\")\n",
        "            for x:=0; x<=q; x++{\n",
        "                T := n + i\n",
        "                fmt.Println(n, \"+\", i, \"=\", T)\n",
        "                i = i + c\n",
        "            }\n",
        "\n",
        "         fmt.Println(\"Tabuada de subtracao:\")\n",
        "            for x:=0; x<=q; x++{\n",
        "                T := n - i\n",
        "                fmt.Println(n, \"-\", i, \"=\", T)\n",
        "                i = i + c\n",
        "            }\n",
        "\n",
        "         fmt.Println(\"Tabuada de Multiplicação:\")\n",
        "            for x:=0; x<=q; x++{\n",
        "                T := n * i\n",
        "                fmt.Println(n, \"x\", i, \"=\", T)\n",
        "                i = i + c\n",
        "            }\n",
        "\n",
        "         fmt.Println(\"Tabuada de Divisão:\")\n",
        "            for x:=0; x<=q; x++{\n",
        "                T := n / i\n",
        "                fmt.Println(n,\"/\", i, \"=\", T)\n",
        "                i = i + c\n",
        "            }\n",
        "        }\n",
        "}"
      ],
      "metadata": {
        "id": "l3u3PeFevcvb"
      },
      "execution_count": null,
      "outputs": []
    },
    {
      "cell_type": "markdown",
      "source": [
        "05-"
      ],
      "metadata": {
        "id": "K2SbRpmYvi6A"
      }
    },
    {
      "cell_type": "code",
      "source": [
        "package main\n",
        "import \"fmt\"\n",
        "\n",
        "func main() {\n",
        "\n",
        "    var n, soma, maiorvalor int\n",
        "    fmt.Println(\"informe a quantidade de elementos:\")\n",
        "    fmt.Scanln(&n)\n",
        "\n",
        "    seq:= make([]int, n)\n",
        "    for x:=0; x<n; x++{\n",
        "        fmt.Scanln(&seq[x])\n",
        "    }\n",
        "\n",
        "    for i:=0; i<len(seq)-1; i++{\n",
        "        if(seq[i]<seq[i+1]){\n",
        "            soma = soma + 1\n",
        "        }else{\n",
        "            if (soma>maiorvalor) {\n",
        "                maiorvalor = soma\n",
        "            }\n",
        "            soma=0\n",
        "        }\n",
        "    }\n",
        "\n",
        "   fmt.Println(\"O comprimento do segmento crescente maximo e:\", maiorvalor)\n",
        "\n",
        "\n",
        "}"
      ],
      "metadata": {
        "id": "stuMPyDtvj9Q"
      },
      "execution_count": null,
      "outputs": []
    },
    {
      "cell_type": "markdown",
      "source": [
        "06-"
      ],
      "metadata": {
        "id": "LULyihG8bIHP"
      }
    },
    {
      "cell_type": "code",
      "source": [
        "package main\n",
        "import \"fmt\"\n",
        "\n",
        "func main() {\n",
        "\n",
        "    var n, soma, maiorvalor int\n",
        "    fmt.Println(\"informe a quantidade de elementos:\")\n",
        "    fmt.Scanln(&n)\n",
        "\n",
        "    seq:= make([]int, n)\n",
        "    for x:=0; x<n; x++{\n",
        "        fmt.Scanln(&seq[x])\n",
        "    }\n",
        "\n",
        "    for i:=0; i<len(seq)-1; i++{\n",
        "        if(seq[i]==seq[i+1]){\n",
        "            soma = soma + 1\n",
        "        }else{\n",
        "            if (soma>maiorvalor) {\n",
        "                maiorvalor = soma\n",
        "            }\n",
        "            soma=0\n",
        "        }\n",
        "    }\n",
        "    if (n==2 && seq[0]==seq[1]){\n",
        "        maiorvalor=1\n",
        "    }\n",
        "\n",
        "   fmt.Println(\"A maior subsequência de elementos iguais possui\", maiorvalor+1, \" elementos.\")\n",
        "}"
      ],
      "metadata": {
        "id": "LMQzB88ObIRX"
      },
      "execution_count": null,
      "outputs": []
    },
    {
      "cell_type": "markdown",
      "source": [
        "07-"
      ],
      "metadata": {
        "id": "YyBvZp7vbIcn"
      }
    },
    {
      "cell_type": "code",
      "source": [
        "package main\n",
        "import \"fmt\"\n",
        "\n",
        "func main() {\n",
        "\n",
        "    var n, quantpar, quantimpar, somapar, somaimpar int\n",
        "\n",
        "    for {\n",
        "        fmt.Println(\"informe um numero:\")\n",
        "        fmt.Scanln(&n)\n",
        "\n",
        "        if(n==0){\n",
        "            break\n",
        "        }\n",
        "\n",
        "        if(n%2 == 0){\n",
        "            quantpar++\n",
        "            somapar += n\n",
        "            }else{\n",
        "                quantimpar++\n",
        "                somaimpar += n\n",
        "            }\n",
        "    }\n",
        "    medpar:= somapar/quantpar\n",
        "    medimpar:= somaimpar/quantimpar\n",
        "\n",
        "\n",
        "   fmt.Println(\"MEDIA PAR = \", medpar,\"MEDIA IMPAR =\", medimpar)\n",
        "}"
      ],
      "metadata": {
        "id": "J5InLlLAbIl3"
      },
      "execution_count": null,
      "outputs": []
    },
    {
      "cell_type": "markdown",
      "source": [
        "08-"
      ],
      "metadata": {
        "id": "lep33deCbIun"
      }
    },
    {
      "cell_type": "code",
      "source": [
        "package main\n",
        "import \"fmt\"\n",
        "\n",
        "func main() {\n",
        "\tvar N int\n",
        "\tfmt.Println(\"Digite a quantidade de times no campeonato:\")\n",
        "\tfmt.Scanln(&N)\n",
        "\n",
        "\tif N < 2 {\n",
        "\t\tfmt.Println(\"Campeonato inválido!\")\n",
        "\t\treturn\n",
        "\t}\n",
        "\n",
        "\tfinal := 0\n",
        "\tfor i := 1; i <= N-1; i++ {\n",
        "\t\tfor j := i + 1; j <= N; j++ {\n",
        "\t\t\tfinal++\n",
        "\t\t\tfmt.Printf(\"Final %d: Time%d X Time%d\\n\", final, i, j)\n",
        "\t\t}\n",
        "\t}\n",
        "}"
      ],
      "metadata": {
        "id": "9BVWBALSbI2v"
      },
      "execution_count": null,
      "outputs": []
    },
    {
      "cell_type": "markdown",
      "source": [
        "09-"
      ],
      "metadata": {
        "id": "1N6_fhp6bD5Z"
      }
    },
    {
      "cell_type": "code",
      "source": [
        "package main\n",
        "import \"fmt\"\n",
        "\n",
        "func main() {\n",
        "    var n int\n",
        "    fmt.Println(\"informe o numero:\")\n",
        "    fmt.Scanln(&n)\n",
        "\n",
        "\n",
        "    if Primo(n){\n",
        "        fmt.Println(\"PRIMO\")\n",
        "    }else {\n",
        "        fmt.Println(\"NAO PRIMO\")\n",
        "    }\n",
        "}\n",
        "\n",
        "func Primo(n int) bool {\n",
        "\tif n <= 1 {\n",
        "\t\treturn false\n",
        "\t}\n",
        "\tif n <= 3 {\n",
        "\t\treturn true\n",
        "\t}\n",
        "\tif n%2 == 0 || n%3 == 0 {\n",
        "\t\treturn false\n",
        "\t}\n",
        "\tx := 5\n",
        "\tfor x*x <= n {\n",
        "\t\tif n%x == 0 || n%(x+2) == 0 {\n",
        "\t\t\treturn false\n",
        "\t\t}\n",
        "\t\tx += 6\n",
        "\t}\n",
        "\treturn true\n",
        "\n",
        "}"
      ],
      "metadata": {
        "id": "GrFJXpuIbEEX"
      },
      "execution_count": null,
      "outputs": []
    },
    {
      "cell_type": "markdown",
      "source": [
        "10-"
      ],
      "metadata": {
        "id": "glPPs5X3bNoX"
      }
    },
    {
      "cell_type": "code",
      "source": [
        "package main\n",
        "import \"fmt\"\n",
        "import \"os\"\n",
        "import \"bufio\"\n",
        "\n",
        "func main(){\n",
        "    var m int\n",
        "    var nh, vh float64\n",
        "    definicao:= bufio.NewReader(os.Stdin)\n",
        "\n",
        "    for x:=0; x<10000; x++{\n",
        "    fmt.Println(\"informe a matricula, o número de horas trabalhadas e o valor recebido por hora:\")\n",
        "    fmt.Fscanln(definicao, &m, &nh, &vh)\n",
        "        v:= nh * vh\n",
        "\n",
        "        if m==0 && nh==0 && vh==0{\n",
        "        return\n",
        "        }\n",
        "    fmt.Println(m,\" \", v)\n",
        "    }\n",
        "}"
      ],
      "metadata": {
        "id": "dUfwWYQdbNvX"
      },
      "execution_count": null,
      "outputs": []
    },
    {
      "cell_type": "markdown",
      "source": [
        "11-"
      ],
      "metadata": {
        "id": "t06WRpsvbN2v"
      }
    },
    {
      "cell_type": "code",
      "source": [
        "package main\n",
        "import \"fmt\"\n",
        "import \"math\"\n",
        "\n",
        "func main() {\n",
        "\tvar n, e float64\n",
        "\tfmt.Println(\"Digite um número:\")\n",
        "\tfmt.Scanln(&n)\n",
        "\tfmt.Println(\"Digite o erro:\")\n",
        "\tfmt.Scanln(&e)\n",
        "\n",
        "\trk := 1.0\n",
        "\tmodulo := math.Abs(n - rk*rk)\n",
        "\n",
        "\tfor modulo > e {\n",
        "\n",
        "\t\trk = (rk + n/rk) / 2\n",
        "\t\tmodulo = math.Abs(n - rk*rk)\n",
        "\t\tfmt.Printf(\"%.9f %.9f\\n\", rk, modulo)\n",
        "\t}\n",
        "}"
      ],
      "metadata": {
        "id": "H1AO0m0YbN9Y"
      },
      "execution_count": null,
      "outputs": []
    },
    {
      "cell_type": "markdown",
      "source": [
        "12-(não consegui)"
      ],
      "metadata": {
        "id": "Ox-Dr777bOGl"
      }
    },
    {
      "cell_type": "code",
      "source": [
        "package main\n",
        "import \"fmt\"\n",
        "\n",
        "func main() {\n",
        "\n",
        "\tvar valorIngresso, valorInicial, valorFinal, valorAtual float64\n",
        "\n",
        "\tfmt.Println(\"Digite o valor do ingresso:\")\n",
        "\tfmt.Scan(&valorIngresso)\n",
        "\tfmt.Println(\"Digite o valor inicial:\")\n",
        "\tfmt.Scan(&valorInicial)\n",
        "\tfmt.Println(\"Digite o valor final:\")\n",
        "\tfmt.Scan(&valorFinal)\n",
        "\n",
        "\tif valorInicial >= valorFinal {\n",
        "\t\tfmt.Println(\"INTERVALO INVALIDO.\")\n",
        "\t\t    return\n",
        "\t    }\n",
        "\n",
        "\tvar lucroMaximo, ingressosMaximo float64\n",
        "\tvar valorMelhor float64\n",
        "\t    lucroMaximo = -1\n",
        "\n",
        "\tfor valor := valorInicial; valor <= valorFinal; valor += 1.0 {\n",
        "\n",
        "\t\tingressos := 120 + 25*(valor-0.5) - 30*(valor+0.5)\n",
        "\t\tlucro := ingressos*(valorAtual-valorIngresso) - (200 + 0.05*ingressos)\n",
        "\n",
        "\t\tif lucro > lucroMaximo {\n",
        "\t\t\tlucroMaximo = lucro\n",
        "\t\t\tingressosMaximo = ingressos\n",
        "\t\t\tvalorMelhor = valor\n",
        "\t\t}\n",
        "\n",
        "\t\tfmt.Printf(\"V: %.2f, N: %.0f, L: %.2f\\n\", valor, ingressos, lucro)\n",
        "\t}\n",
        "\n",
        "\tfmt.Println(\"\\nResumo\")\n",
        "\n",
        "\tif lucroMaximo > 0 {\n",
        "\t\tfmt.Printf(\"Melhor valor final: %.2f\\n\", valorMelhor)\n",
        "\t\tfmt.Printf(\"Lucro: %.2f\\n\", lucroMaximo)\n",
        "\t\tfmt.Printf(\"Numero de ingressos: %.0f\\n\", ingressosMaximo)\n",
        "\t} else {\n",
        "\t    lucroMaximo=0\n",
        "\t  fmt.Printf(\"Melhor valor final: %.2f\\n\", valorMelhor)\n",
        "\t\tfmt.Printf(\"Lucro: %.2f\\n\", lucroMaximo)\n",
        "\t\tfmt.Printf(\"Numero de ingressos: %.0f\\n\", ingressosMaximo)\n",
        "\t}\n",
        "}"
      ],
      "metadata": {
        "id": "1MeBACs7bONn"
      },
      "execution_count": null,
      "outputs": []
    },
    {
      "cell_type": "markdown",
      "source": [
        "13-"
      ],
      "metadata": {
        "id": "9i39vU8pbOUO"
      }
    },
    {
      "cell_type": "code",
      "source": [
        "package main\n",
        "import \"fmt\"\n",
        "\n",
        "func main() {\n",
        "\n",
        "    var n, x, soma int\n",
        "\n",
        "    fmt.Println(\"Informe a quantidade a ser sdicionada:\")\n",
        "    fmt.Scanln(&n)\n",
        "    soma = 0\n",
        "    for x=1; x<=64; x++{\n",
        "        if(x%2==0){\n",
        "            soma += n\n",
        "        }else{\n",
        "            if(x%2!=0){\n",
        "                soma += n*2\n",
        "            }\n",
        "        }\n",
        "    }\n",
        "    fmt.Println(soma-n)\n",
        "}"
      ],
      "metadata": {
        "id": "jjEuUdR4bObI"
      },
      "execution_count": null,
      "outputs": []
    },
    {
      "cell_type": "markdown",
      "source": [
        "14-"
      ],
      "metadata": {
        "id": "p4SYHuj3bOhX"
      }
    },
    {
      "cell_type": "code",
      "source": [
        "package main\n",
        "import \"fmt\"\n",
        "\n",
        "func main() {\n",
        "\n",
        "\tvar m, n int\n",
        "\n",
        "\tfmt.Println(\"Informe a dimensao da matriz:\")\n",
        "\tfmt.Scan(&m, &n)\n",
        "\n",
        "\tmatriz := make([][]int, m)\n",
        "\t    for i:= range matriz {\n",
        "\t\t    matriz[i] = make([]int, n)\n",
        "\t    }\n",
        "\n",
        "\tfmt.Println(\"Elementos abaixo da diagonal principal:\")\n",
        "\tfor i := 1; i <= m; i++ {\n",
        "\t\tfor j := 1; j <= n; j++ {\n",
        "\t\t\tif i > j {\n",
        "\t\t\t\tfmt.Printf(\"(%d,%d) \", i, j)\n",
        "\n",
        "\t\t\t}\n",
        "\t\t}\n",
        "\t}\n",
        "}"
      ],
      "metadata": {
        "id": "RHwolJU4bOoX"
      },
      "execution_count": null,
      "outputs": []
    },
    {
      "cell_type": "markdown",
      "source": [
        "15-"
      ],
      "metadata": {
        "id": "kH67_w_nbOuX"
      }
    },
    {
      "cell_type": "code",
      "source": [
        "package main\n",
        "import \"fmt\"\n",
        "import \"strconv\"\n",
        "\n",
        "func main() {\n",
        "\tvar T int\n",
        "\tfmt.Scan(&T)\n",
        "\n",
        "\tfor i := 0; i < T; i++ {\n",
        "\t\tvar A, B int\n",
        "\t\tfmt.Scan(&A, &B)\n",
        "\n",
        "\t\tA_reversed := reverseNumber(A)\n",
        "\t\tB_reversed := reverseNumber(B)\n",
        "\n",
        "\t\tif A_reversed > B_reversed {\n",
        "\t\t\tfmt.Println(A_reversed)\n",
        "\t\t} else {\n",
        "\t\t\tfmt.Println(B_reversed)\n",
        "\t\t}\n",
        "\t}\n",
        "}\n",
        "\n",
        "func reverseNumber(num int) int {\n",
        "\tstrNum := strconv.Itoa(num)\n",
        "\treversedStr := \"\"\n",
        "\tfor i := len(strNum) - 1; i >= 0; i-- {\n",
        "\t\treversedStr += string(strNum[i])\n",
        "\t}\n",
        "\treversedNum, _ := strconv.Atoi(reversedStr)\n",
        "\treturn reversedNum\n",
        "}\n",
        "\n"
      ],
      "metadata": {
        "id": "w4jC45QybO1J"
      },
      "execution_count": null,
      "outputs": []
    },
    {
      "cell_type": "markdown",
      "source": [
        "16-"
      ],
      "metadata": {
        "id": "dlRLPW4bbO7m"
      }
    },
    {
      "cell_type": "code",
      "source": [
        "package main\n",
        "import \"fmt\"\n",
        "\n",
        "func main() {\n",
        "\tvar n int\n",
        "\tfmt.Println(\"Digite um número:\")\n",
        "\tfmt.Scanln(&n)\n",
        "\n",
        "\tfor h := 1; h <= n; h++ {\n",
        "\t\tfor c1 := 1; c1 < h; c1++ {\n",
        "\t\t\tfor c2 := c1 + 1; c2 < h; c2++ {\n",
        "\t\t\t\tif (c1*c1+c2*c2 == h*h) {\n",
        "\t\t\t\t\tfmt.Printf(\"hipotenusa = %d, catetos %d e %d\\n\", h, c1, c2)\n",
        "\t\t\t\t}\n",
        "\t\t\t}\n",
        "\t\t}\n",
        "\t}\n",
        "}\n"
      ],
      "metadata": {
        "id": "PfVDCZ9tbPBv"
      },
      "execution_count": null,
      "outputs": []
    },
    {
      "cell_type": "markdown",
      "source": [
        "17-"
      ],
      "metadata": {
        "id": "sz57XKhdbUye"
      }
    },
    {
      "cell_type": "code",
      "source": [
        "package main\n",
        "import \"fmt\"\n",
        "\n",
        "func main() {\n",
        "\tvar (codigo    uint64\n",
        "\t\tprecoCompra, precoVenda, lucroTotal, valorCompraTotal, valorVendaTotal float64\n",
        "\t\tnumVendas, maiorLucroCodigo, maisVendidaCodigo int\n",
        "\t\tmercadoriasMenor10, mercadoriasEntre10e20, mercadoriasMaior20 int\n",
        "\t\tmaiorLucro, maisVendidaValor float64)\n",
        "\n",
        "\tfor {\n",
        "\t        fmt.Println(\"informe o codigo:\")\n",
        "\t        fmt.Scanln(&codigo)\n",
        "\t            if codigo == 0{\n",
        "\t\t            break\n",
        "\t\t        }\n",
        "            fmt.Println(\"informe o preço de compra:\")\n",
        "\t        fmt.Scanln(&precoCompra)\n",
        "\t        fmt.Println(\"informe o preço de venda:\")\n",
        "\t        fmt.Scanln(&precoVenda)\n",
        "\t        fmt.Println(\"informe o numero de venda:\")\n",
        "\t        fmt.Scanln(&numVendas)\n",
        "\n",
        "\t\tvalorCompraTotal += precoCompra * float64(numVendas)\n",
        "\t\tvalorVendaTotal += precoVenda * float64(numVendas)\n",
        "\n",
        "\t\tlucro := (precoVenda - precoCompra) / precoCompra * 100\n",
        "\n",
        "\t\tif (lucro < 10) {\n",
        "\t\t\tmercadoriasMenor10++\n",
        "\t    }else if lucro <= 20 {\n",
        "\t\tmercadoriasEntre10e20++\n",
        "        }else {\n",
        "            mercadoriasMaior20++\n",
        "        }\n",
        "\n",
        "\t\tif lucro > maiorLucro {\n",
        "\t\t\tmaiorLucro = lucro\n",
        "\t\t\tmaiorLucroCodigo = int(codigo)\n",
        "\t\t}\n",
        "\n",
        "\t\tif float64(numVendas) > maisVendidaValor {\n",
        "\t\t\tmaisVendidaValor = float64(numVendas)\n",
        "\t\t\tmaisVendidaCodigo = int(codigo)\n",
        "\t\t}\n",
        "\n",
        "\t}\n",
        "\n",
        "\tlucroTotal = (valorVendaTotal - valorCompraTotal) / valorCompraTotal * 100\n",
        "\n",
        "\tfmt.Printf(\"Quantidade de mercadorias que geraram lucro menor que 10%%: %d\\n\", mercadoriasMenor10)\n",
        "\tfmt.Printf(\"Quantidade de mercadorias que geraram lucro maior ou igual a 10%% e menor ou igual a 20%%: %d\\n\", mercadoriasEntre10e20)\n",
        "\tfmt.Printf(\"Quantidade de mercadorias que geraram lucro maior do que 20%%: %d\\n\", mercadoriasMaior20)\n",
        "\tfmt.Printf(\"Codigo da mercadoria que gerou maior lucro: %d\\n\", maiorLucroCodigo)\n",
        "\tfmt.Printf(\"Codigo da mercadoria mais vendida: %d\\n\", maisVendidaCodigo)\n",
        "\tfmt.Printf(\"Valor total de compras: %.2f, valor total de vendas: %.2f e percentual de lucro total: %.2f%%\\n\", valorCompraTotal, valorVendaTotal, lucroTotal)\n",
        "}"
      ],
      "metadata": {
        "id": "O3arbdPgbU5P"
      },
      "execution_count": null,
      "outputs": []
    },
    {
      "cell_type": "markdown",
      "source": [
        "18-"
      ],
      "metadata": {
        "id": "Mocdu2J3bU_Y"
      }
    },
    {
      "cell_type": "code",
      "source": [
        "package main\n",
        "import \"fmt\"\n",
        "\n",
        "func main() {\n",
        "\n",
        "\tvar a, b, c int\n",
        "\n",
        "\tfmt.Println(\"Digite três numeros:\")\n",
        "\tfmt.Scan(&a, &b, &c)\n",
        "\n",
        "\tmdc := func(a, b int) int {\n",
        "\t\tfor b != 0 {\n",
        "\t\t\ta, b = b, a%b\n",
        "\t\t}\n",
        "\t\treturn a\n",
        "\t}\n",
        "\n",
        "\tmmc := func(a, b int) int {\n",
        "\t\treturn (a * b) / mdc(a, b)\n",
        "\t}\n",
        "\n",
        "\tmmc3 := func(a, b, c int) int {\n",
        "\t\treturn mmc(a, mmc(b, c))\n",
        "\t}\n",
        "\n",
        "\tresultado := mmc3(a, b, c)\n",
        "\n",
        "\tfmt.Printf(\"%5d %5d %5d :%d\\n\", a, b, c, resultado)\n",
        "}"
      ],
      "metadata": {
        "id": "iMW85sqzbVFH"
      },
      "execution_count": null,
      "outputs": []
    },
    {
      "cell_type": "markdown",
      "source": [
        "19-"
      ],
      "metadata": {
        "id": "HK1rtf1-bVLH"
      }
    },
    {
      "cell_type": "code",
      "source": [
        "package main\n",
        "import \"fmt\"\n",
        "\n",
        "func main() {\n",
        "    var m int\n",
        "\n",
        "    fmt.Println(\"Digite um número:\")\n",
        "    fmt.Scan(&m)\n",
        "\n",
        "    for n := 1; n <= m; n++ {\n",
        "        cubo := n * n * n\n",
        "        soma := 0\n",
        "        inicio := 1\n",
        "\n",
        "        for i := 0; soma < cubo; i++ {\n",
        "\n",
        "            soma += inicio +2*i\n",
        "            if soma == cubo {\n",
        "                fmt.Printf(\"%d x %d x %d = \", n, n, n)\n",
        "                for j := 0; j <= i; j++ {\n",
        "                    fmt.Printf(\"%d\", inicio+2*j)\n",
        "                    if j != i {\n",
        "                        fmt.Printf(\" + \")\n",
        "                    }\n",
        "                }\n",
        "                fmt.Println()\n",
        "            }\n",
        "        }\n",
        "    }\n",
        "}"
      ],
      "metadata": {
        "id": "dkM3Pr9ybVQZ"
      },
      "execution_count": null,
      "outputs": []
    },
    {
      "cell_type": "markdown",
      "source": [
        "20-"
      ],
      "metadata": {
        "id": "JfFej21fbVWf"
      }
    },
    {
      "cell_type": "code",
      "source": [
        "package main\n",
        "import\"fmt\"\n",
        "\n",
        "func main() {\n",
        "\tvar n, soma int\n",
        "\n",
        "\tfmt.Scan(&n)\n",
        "\tfmt.Printf(\"%d = \", n)\n",
        "\n",
        "\tfor i := 1; i <= n/2; i++ {\n",
        "\t\tif n%i == 0 {\n",
        "\t\t\tsoma += i\n",
        "\t\t\tfmt.Printf(\"%d\", i)\n",
        "\t\t\tif soma != n {\n",
        "\t\t\t\tfmt.Printf(\" + \")\n",
        "\t\t\t}\n",
        "\t\t}\n",
        "\t}\n",
        "\n",
        "\tfmt.Printf(\" = %d\", soma)\n",
        "\tif soma == n {\n",
        "\t\tfmt.Println(\" (NUMERO PERFEITO)\")\n",
        "\t} else {\n",
        "\t\tfmt.Println(\" (NUMERO NAO E PERFEITO)\")\n",
        "\t}\n",
        "}"
      ],
      "metadata": {
        "id": "A87b_ujubVco"
      },
      "execution_count": null,
      "outputs": []
    },
    {
      "cell_type": "markdown",
      "source": [
        "21"
      ],
      "metadata": {
        "id": "J_MajN9vbVhp"
      }
    },
    {
      "cell_type": "code",
      "source": [
        "\n",
        "package main\n",
        "import \"fmt\"\n",
        "\n",
        "func main() {\n",
        "    for {\n",
        "        var tm int\n",
        "        fmt.Scanln(&tm)\n",
        "\n",
        "        if tm == 0 {\n",
        "            break\n",
        "        }\n",
        "\n",
        "        seq := make([]int, tm)\n",
        "        for i := 0; i < tm; i++ {\n",
        "            fmt.Scan(&seq[i])\n",
        "        }\n",
        "        fmt.Scanln()\n",
        "\n",
        "        ord := true\n",
        "        for i := 1; i < tm; i++ {\n",
        "            if sq[i-1] >= sq[i] {\n",
        "                ord = false\n",
        "                break\n",
        "            }\n",
        "        }\n",
        "\n",
        "        if ord {\n",
        "            fmt.Println(\"ORDENADA\")\n",
        "        } else {\n",
        "            fmt.Println(\"DESORDENADA\")\n",
        "        }\n",
        "    }\n",
        "}"
      ],
      "metadata": {
        "id": "T7Y3K8XMbVm_"
      },
      "execution_count": null,
      "outputs": []
    },
    {
      "cell_type": "markdown",
      "source": [
        "22"
      ],
      "metadata": {
        "id": "bXMox5YEbVr_"
      }
    },
    {
      "cell_type": "code",
      "source": [
        "package main\n",
        "import\"fmt\"\n",
        "import\"strconv\"\n",
        "\n",
        "func ger(a, b int) int {\n",
        "    for b != 0 {\n",
        "        a, b = b, a%b\n",
        "    }\n",
        "    return a\n",
        "}\n",
        "\n",
        "func simplif(num, den int) (int, int) {\n",
        "    divisor := ger(num, den)\n",
        "    return num / divisor, den / divisor\n",
        "}\n",
        "\n",
        "func main() {\n",
        "\n",
        "    var N float64\n",
        "\n",
        "    fmt.Println(\"Informe um número qualque na forma decimal:\")\n",
        "    fmt.Scanln(&N)\n",
        "\n",
        "    trans := strconv.FormatFloat(N, 'f', -1, 64)\n",
        "\n",
        "    x := -1\n",
        "    for i, char := range trans {\n",
        "        if char == '.' {\n",
        "            x = i\n",
        "            break\n",
        "        }\n",
        "    }\n",
        "\n",
        "    n1 := trans[:x] + trans[x+1:]\n",
        "    n2 := \"1\" + fmt.Sprintf(\"%0*d\", len(trans)-x-1, 0)\n",
        "    n, _ := strconv.Atoi(n1)\n",
        "    d, _ := strconv.Atoi(n2)\n",
        "\n",
        "    nSimplif, dSimplif := simplif(n, d)\n",
        "\n",
        "    fmt.Printf(\"A fração simplificada é: %d/%d\\n\", nSimplif, dSimplif)\n",
        "}\n"
      ],
      "metadata": {
        "id": "31pRuyeFbVxf"
      },
      "execution_count": null,
      "outputs": []
    },
    {
      "cell_type": "markdown",
      "source": [
        "23"
      ],
      "metadata": {
        "id": "KOroO1J8bV2X"
      }
    },
    {
      "cell_type": "code",
      "source": [
        "package main\n",
        "import\"fmt\"\n",
        "\n",
        "func main() {\n",
        "\tvar n int\n",
        "\n",
        "\tfmt.Scan(&n)\n",
        "\n",
        "\tcount := 0\n",
        "\tfor i := 1; count < n; i++ {\n",
        "\n",
        "\t\tsumDivisorsI := sumDivisors(i)\n",
        "\n",
        "\t\tif sumDivisorsI > i {\n",
        "\t\t\tsumDivisorsSum := sumDivisors(sumDivisorsI)\n",
        "\t\t\tif sumDivisorsSum == i {\n",
        "\t\t\t\tfmt.Printf(\"(%d,%d)\\n\", i, sumDivisorsI)\n",
        "\t\t\t\tcount++\n",
        "\t\t\t}\n",
        "\t\t}\n",
        "\t}\n",
        "}\n",
        "\n",
        "func sumDivisors(n int) int {\n",
        "\tsum := 1\n",
        "\tfor i := 2; i*i <= n; i++ {\n",
        "\t\tif n%i == 0 {\n",
        "\t\t\tsum += i\n",
        "\t\t\tif i*i != n {\n",
        "\t\t\t\tsum += n / i\n",
        "\t\t\t}\n",
        "\t\t}\n",
        "\t}\n",
        "\treturn sum\n",
        "}"
      ],
      "metadata": {
        "id": "nwe--ZAubV8Q"
      },
      "execution_count": null,
      "outputs": []
    },
    {
      "cell_type": "markdown",
      "source": [
        "24"
      ],
      "metadata": {
        "id": "CNMVXIqPbWBH"
      }
    },
    {
      "cell_type": "code",
      "source": [
        "package main\n",
        "import \"fmt\"\n",
        "\n",
        "func main() {\n",
        "\n",
        "    var x float64\n",
        "    var N int\n",
        "\n",
        "    fmt.Print(\"Digite o valor de x: \")\n",
        "    fmt.Scan(&x)\n",
        "    fmt.Print(\"Digite a quantidade de termos: \")\n",
        "    fmt.Scan(&N)\n",
        "\n",
        "    resu := 1.0\n",
        "    termo := 1.0\n",
        "\n",
        "    for i := 1; i <= N; i++ {\n",
        "        termo = (-1) * (x * x) / float64((2*i)*(2*i-1))\n",
        "        resu += termo\n",
        "    }\n",
        "\n",
        "    fmt.Printf(\"cos(%.2f)= %.6f\\n\", x, resu)\n",
        "}"
      ],
      "metadata": {
        "id": "0swRBminbWGH"
      },
      "execution_count": null,
      "outputs": []
    },
    {
      "cell_type": "markdown",
      "source": [
        "25"
      ],
      "metadata": {
        "id": "jktEZk2Obeym"
      }
    },
    {
      "cell_type": "code",
      "source": [
        "package main\n",
        "import\"fmt\"\n",
        "\n",
        "func main() {\n",
        "\n",
        "    var x float64\n",
        "    var N int\n",
        "\n",
        "    fmt.Print(\"Digite um numero para x: \")\n",
        "    fmt.Scan(&x)\n",
        "    fmt.Print(\"Digite a quantidade para N: \")\n",
        "    fmt.Scan(&N)\n",
        "\n",
        "    resu := 1.0\n",
        "    termo := 1.0\n",
        "\n",
        "    for i := 1; i <= N; i++ {\n",
        "        termo *= x / float64(i)\n",
        "        resu += termo\n",
        "    }\n",
        "\n",
        "    fmt.Printf(\"e^x = %.2f\\n\", x)\n",
        "    fmt.Printf(\"e^x = %.6f\\n\", resu)\n",
        "}"
      ],
      "metadata": {
        "id": "VkN4Z7adbe5n"
      },
      "execution_count": null,
      "outputs": []
    },
    {
      "cell_type": "markdown",
      "source": [
        "26"
      ],
      "metadata": {
        "id": "Ves1ZOLpbe_3"
      }
    },
    {
      "cell_type": "code",
      "source": [
        "package main\n",
        "import \"fmt\"\n",
        "\n",
        "func main() {\n",
        "\n",
        "    var x float64\n",
        "    var N int\n",
        "\n",
        "    fmt.Print(\"Digite um valor para x: \")\n",
        "    fmt.Scan(&x)\n",
        "    fmt.Print(\"Digite a quantidade para N: \")\n",
        "    fmt.Scan(&N)\n",
        "\n",
        "    resu := 0.0\n",
        "    termo := x\n",
        "\n",
        "    for i := 1; i <= N; i++ {\n",
        "        termo = (-1) * x * x / float64((2*i)*(2*i+1))\n",
        "        resu += termo\n",
        "    }\n",
        "\n",
        "    fmt.Printf(\"sen(%.2f) = %.6f\\n \", x, resu)\n",
        "\n",
        "}"
      ],
      "metadata": {
        "id": "YXtodaQ6bfGZ"
      },
      "execution_count": null,
      "outputs": []
    },
    {
      "cell_type": "markdown",
      "source": [
        "27"
      ],
      "metadata": {
        "id": "UQDNIE70bfL3"
      }
    },
    {
      "cell_type": "code",
      "source": [
        "package main\n",
        "import\"fmt\"\n",
        "\n",
        "func main() {\n",
        "    for {\n",
        "\n",
        "        var N int\n",
        "\n",
        "        fmt.Print(\"informe um numero qualquer: \")\n",
        "        fmt.Scan(&N)\n",
        "\n",
        "        if N <= 1 {\n",
        "            fmt.Println(\"Fatoracao nao e possivel para o numero\", N, \"!\")\n",
        "            continue\n",
        "        }\n",
        "\n",
        "        fmt.Print(N, \" = \")\n",
        "\n",
        "        div := 2\n",
        "\n",
        "    for N > 1 {\n",
        "        if N%div == 0 {\n",
        "            fmt.Print(div)\n",
        "            N /= div\n",
        "            if N > 1 {\n",
        "                fmt.Print(\" x \")\n",
        "            }\n",
        "        } else {\n",
        "            div++\n",
        "        }\n",
        "    }\n",
        "        fmt.Println()\n",
        "        break\n",
        "    }\n",
        "}"
      ],
      "metadata": {
        "id": "2APXz2ARbfRR"
      },
      "execution_count": null,
      "outputs": []
    }
  ],
  "metadata": {
    "colab": {
      "provenance": [],
      "include_colab_link": true
    },
    "kernelspec": {
      "display_name": "Python 3",
      "name": "python3"
    }
  },
  "nbformat": 4,
  "nbformat_minor": 0
}