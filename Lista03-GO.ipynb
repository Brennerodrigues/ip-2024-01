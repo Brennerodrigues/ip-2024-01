{
  "nbformat": 4,
  "nbformat_minor": 0,
  "metadata": {
    "colab": {
      "provenance": [],
      "authorship_tag": "ABX9TyMVGQBXcO19aRsZebPextH5",
      "include_colab_link": true
    },
    "kernelspec": {
      "name": "python3",
      "display_name": "Python 3"
    },
    "language_info": {
      "name": "python"
    }
  },
  "cells": [
    {
      "cell_type": "markdown",
      "metadata": {
        "id": "view-in-github",
        "colab_type": "text"
      },
      "source": [
        "<a href=\"https://colab.research.google.com/github/Brennerodrigues/ip-2024-01/blob/main/Lista03-GO.ipynb\" target=\"_parent\"><img src=\"https://colab.research.google.com/assets/colab-badge.svg\" alt=\"Open In Colab\"/></a>"
      ]
    },
    {
      "cell_type": "markdown",
      "source": [
        "01-"
      ],
      "metadata": {
        "id": "hcWdBeUQGEWL"
      }
    },
    {
      "cell_type": "code",
      "source": [
        "package main\n",
        "import \"fmt\"\n",
        "\n",
        "func main() {\n",
        "    var n, m, x, i, valor int\n",
        "\n",
        "    fmt.Scanln(&n)\n",
        "    seq:= make([]int, n)\n",
        "\n",
        "    if(n>=1 && n<=100000){\n",
        "        for x=0; x<n; x++{\n",
        "             fmt.Scan(&seq[x])\n",
        "        }\n",
        "\n",
        "    fmt.Scanln(&m)\n",
        "    seq2:= make([]int, m)\n",
        "\n",
        "        if(m>=1 && m<=1000){\n",
        "            for i=0; i<m; i++{\n",
        "                fmt.Scanln(&seq2[i])\n",
        "                encontrado := false\n",
        "                for _,valor = range seq {\n",
        "                    if (valor == seq2[i]){\n",
        "                         encontrado = true\n",
        "                            break\n",
        "                    }\n",
        "                }\n",
        "                if (encontrado){\n",
        "                    fmt.Println(\"Achei\")\n",
        "                }else{\n",
        "                    fmt.Println(\"Nao achei\")\n",
        "                }\n",
        "            }\n",
        "        }\n",
        "    }\n",
        "}"
      ],
      "metadata": {
        "id": "WP3OKAQaGEeU"
      },
      "execution_count": null,
      "outputs": []
    },
    {
      "cell_type": "markdown",
      "source": [
        "02-"
      ],
      "metadata": {
        "id": "pUQrviR0GEmj"
      }
    },
    {
      "cell_type": "code",
      "source": [
        "package main\n",
        "import \"fmt\"\n",
        "\n",
        "func main() {\n",
        "\n",
        "    var n, x, k, i, se int\n",
        "\n",
        "    for{\n",
        "        fmt.Scanln(&n)\n",
        "        if(n>=1 && n<=1000){\n",
        "            break\n",
        "        }\n",
        "    }\n",
        "    seq:= make([]int, n)\n",
        "\n",
        "        for x=0; x<n; x++{\n",
        "            fmt.Scan(&seq[x])\n",
        "        }\n",
        "\n",
        "        fmt.Scanln(&k)\n",
        "        se = 0\n",
        "      for i=0; i<n; i++{\n",
        "          if(seq[i]>=k){\n",
        "            se++\n",
        "          }\n",
        "      }\n",
        "    fmt.Println(se)\n",
        "}"
      ],
      "metadata": {
        "id": "zv04vspTGEts"
      },
      "execution_count": null,
      "outputs": []
    },
    {
      "cell_type": "markdown",
      "source": [
        "03-"
      ],
      "metadata": {
        "id": "ACqmnF0-GE0M"
      }
    },
    {
      "cell_type": "code",
      "source": [
        "package main\n",
        "import \"fmt\"\n",
        "\n",
        "func main() {\n",
        "\n",
        "    var n, x int\n",
        "\n",
        "    fmt.Scanln(&n)\n",
        "    seq:= make([]int, n)\n",
        "\n",
        "    if(n >= 1 && n < 5000){\n",
        "        for x=0; x<n; x++{\n",
        "             fmt.Scan(&seq[x])\n",
        "        }\n",
        "    }\n",
        "    for i:=len(seq)-1; i>=0; i--{\n",
        "        fmt.Print(seq[i],\" \")\n",
        "    }\n",
        "}"
      ],
      "metadata": {
        "id": "I6dOtm0DGE70"
      },
      "execution_count": null,
      "outputs": []
    },
    {
      "cell_type": "markdown",
      "source": [
        "04-"
      ],
      "metadata": {
        "id": "FbWJXsIhGFCE"
      }
    },
    {
      "cell_type": "code",
      "source": [
        "package main\n",
        "import \"fmt\"\n",
        "\n",
        "func main() {\n",
        "\n",
        "    var n, x int\n",
        "\n",
        "    fmt.Scanln(&n)\n",
        "\n",
        "    seq:= make([]int, n)\n",
        "    if(n>=1 && n<5000){\n",
        "        for x=0; x<n; x++{\n",
        "             fmt.Scan(&seq[x])\n",
        "        }\n",
        "    fmt.Println(\"\\n\")\n",
        "    for i:=0; i<x; i++{\n",
        "        fmt.Print(seq[i],\" \")\n",
        "    }\n",
        "  }\n",
        "}"
      ],
      "metadata": {
        "id": "dnTOvAKqGFJ0"
      },
      "execution_count": null,
      "outputs": []
    },
    {
      "cell_type": "markdown",
      "source": [
        "05-"
      ],
      "metadata": {
        "id": "rfUXr3qfGFP0"
      }
    },
    {
      "cell_type": "code",
      "source": [
        "package main\n",
        "import \"fmt\"\n",
        "\n",
        "func main() {\n",
        "\n",
        "    var n, x int\n",
        "\n",
        "    for{\n",
        "        fmt.Scanln(&n)\n",
        "            if(n > 1 && n <= 10000){\n",
        "                break\n",
        "            }\n",
        "    }\n",
        "    seq:= make([]int, n)\n",
        "    for{\n",
        "        for x=0; x<n; x++{\n",
        "            fmt.Scan(&seq[x])\n",
        "        }\n",
        "        indice:=0\n",
        "\n",
        "        for i:=0; i<n; i++{\n",
        "            if(seq[i]>seq[indice]){\n",
        "                indice = i\n",
        "            }\n",
        "        }\n",
        "        maior:=0\n",
        "        for _,Valor:= range seq{\n",
        "            if(Valor > maior){\n",
        "                maior = Valor\n",
        "            }\n",
        "        }\n",
        "        fmt.Println(indice, \" \", maior)\n",
        "    }\n",
        "\n",
        "}"
      ],
      "metadata": {
        "id": "DW6QsmXqGFWE"
      },
      "execution_count": null,
      "outputs": []
    },
    {
      "cell_type": "markdown",
      "source": [
        "06-"
      ],
      "metadata": {
        "id": "2zkuep4lGFcr"
      }
    },
    {
      "cell_type": "code",
      "source": [
        "package main\n",
        "import \"fmt\"\n",
        "\n",
        "func main() {\n",
        "\n",
        "    var n, x, soma int\n",
        "    soma=0\n",
        "    fmt.Scanln(&n)\n",
        "\n",
        "    seq:= make([]int, n)\n",
        "\n",
        "    if(n>1 && n<5000){\n",
        "        for x=0; x<n; x++{\n",
        "            fmt.Scan(&seq[x])\n",
        "            soma += seq[x]\n",
        "        }\n",
        "        fmt.Println(soma)\n",
        "    }\n",
        "}"
      ],
      "metadata": {
        "id": "ofpgYek-GFiM"
      },
      "execution_count": null,
      "outputs": []
    },
    {
      "cell_type": "markdown",
      "source": [
        "07"
      ],
      "metadata": {
        "id": "U7otw8GvGFn0"
      }
    },
    {
      "cell_type": "code",
      "source": [
        "package main\n",
        "import \"fmt\"\n",
        "\n",
        "func main() {\n",
        "    var n, x, i int\n",
        "\n",
        "    for{\n",
        "        fmt.Scanln(&n)\n",
        "        seq:= make([]int, n)\n",
        "\n",
        "        if(n>1 && n<=10000){\n",
        "            for x=0; x<n; x++{\n",
        "                fmt.Scan(&seq[x])\n",
        "            }\n",
        "        }\n",
        "        if(n==0){\n",
        "            break\n",
        "        }\n",
        "            maior := seq[0]\n",
        "        for _, valor := range seq {\n",
        "            if (valor > maior){\n",
        "                maior = valor\n",
        "            }\n",
        "        }\n",
        "        freq := make([]int, maior+1)\n",
        "        for _, valor := range seq {\n",
        "            for i := valor; i <= maior; i++ {\n",
        "                freq[valor]++\n",
        "            }\n",
        "        }\n",
        "\n",
        "        for i=0; i <= maior; i++{\n",
        "            fmt.Printf(\"(%d) %d\\n\", i, freq[i]-1)\n",
        "            }\n",
        "    }\n",
        "}"
      ],
      "metadata": {
        "id": "28WLc7xPGFt0"
      },
      "execution_count": null,
      "outputs": []
    },
    {
      "cell_type": "markdown",
      "source": [
        "08"
      ],
      "metadata": {
        "id": "XAqRXaTvGFzj"
      }
    },
    {
      "cell_type": "code",
      "source": [
        "package main\n",
        "import \"fmt\"\n",
        "\n",
        "func main() {\n",
        "    var n, t int\n",
        "\n",
        "    fmt.Scanln(&n)\n",
        "    for{\n",
        "        t = n%2\n",
        "        fmt.Print(t)\n",
        "        n = (n-t)/2\n",
        "        if(n==1){\n",
        "            t = n%2\n",
        "            fmt.Print(t)\n",
        "            break\n",
        "        }\n",
        "        if(n==0){\n",
        "            break\n",
        "        }\n",
        "    }\n",
        "\n",
        "}"
      ],
      "metadata": {
        "id": "gJp4GjEaGF5U"
      },
      "execution_count": null,
      "outputs": []
    },
    {
      "cell_type": "markdown",
      "source": [
        "09-"
      ],
      "metadata": {
        "id": "peLzKYsnGF-8"
      }
    },
    {
      "cell_type": "code",
      "source": [
        "package main\n",
        "import \"fmt\"\n",
        "import \"math\"\n",
        "\n",
        "func main() {\n",
        "\tvar N int\n",
        "\tfmt.Scanln(&N)\n",
        "if(n > 2 && n <= 1000){\n",
        "\tseq := make([][3]float64, N)\n",
        "\tfor i := 0; i < N; i++ {\n",
        "\t\tvar x, y, z float64\n",
        "\t\tfmt.Scanln(&x, &y, &z)\n",
        "\t\tseq[i] = [3]float64{x, y, z}\n",
        "  if(x< -1000 || x>1000 || y< -1000 || y>1000||z< -1000 || z>1000){\n",
        "\t\t        return\n",
        "\t\t    }\n",
        "\t}\n",
        "\tfor i := 1; i < N; i++ {\n",
        "\t\tdistancia := calcularDistancia(seq[i-1][0], seq[i-1][1], seq[i-1][2], seq[i][0], seq[i][1], seq[i][2])\n",
        "\t\tfmt.Printf(\"%.2f\\n\", distancia)\n",
        "\t}\n",
        "}\n",
        "}\n",
        "\n",
        "func calcularDistancia(x1, y1, z1, x2, y2, z2 float64) float64 {\n",
        "\treturn math.Sqrt(math.Pow(x1-x2, 2) + math.Pow(y1-y2, 2) + math.Pow(z1-z2, 2))\n",
        "}\n"
      ],
      "metadata": {
        "id": "uPC87IboGGE9"
      },
      "execution_count": null,
      "outputs": []
    },
    {
      "cell_type": "markdown",
      "source": [
        "10"
      ],
      "metadata": {
        "id": "hIcCLwVkGGKM"
      }
    },
    {
      "cell_type": "code",
      "source": [
        " package main\n",
        "import \"fmt\"\n",
        "\n",
        "func main() {\n",
        "    var n, x int\n",
        "\n",
        "    fmt.Scanln(&n)\n",
        "    seq:= make([]int, n)\n",
        "\n",
        "    if(n >= 1 && n <= 10000){\n",
        "        for x=0; x<n; x++{\n",
        "             fmt.Scanln(&seq[x])\n",
        "        }\n",
        "           maior := seq[0]\n",
        "        for _, valor := range seq {\n",
        "            if (valor > maior){\n",
        "                maior = valor\n",
        "            }\n",
        "        }\n",
        "           y:=1\n",
        "        for _, cont := range seq{\n",
        "             if(seq[n-1] == cont){\n",
        "                y++\n",
        "            }\n",
        "        }\n",
        "            m:=1\n",
        "        for _, cont := range seq{\n",
        "            if(cont != maior){\n",
        "                m++\n",
        "            }\n",
        "             if(cont == maior){\n",
        "                break\n",
        "            }\n",
        "        }\n",
        "        fmt.Printf(\"Nota %d, %d veses \\nNota %d, indice %d\", seq[n-1], y, maior, m)\n",
        "    }\n",
        "}"
      ],
      "metadata": {
        "id": "NaWt9YlHGGP7"
      },
      "execution_count": null,
      "outputs": []
    },
    {
      "cell_type": "markdown",
      "source": [
        "11-"
      ],
      "metadata": {
        "id": "aMQG_Eufks6Y"
      }
    },
    {
      "cell_type": "code",
      "source": [
        "package main\n",
        "import \"fmt\"\n",
        "\n",
        "func main() {\n",
        "\tvar n int\n",
        "\n",
        "\tfmt.Scan(&n)\n",
        " if(n > 1 && n <= 1000){\n",
        "\tseq := make([]int, n)\n",
        "\n",
        "\tfor i := 0; i < n; i++ {\n",
        "\t\tfmt.Scan(&seq[i])\n",
        "\t}\n",
        "\tfmt.Print(seq, \" \", \"\\n\")\n",
        "\tfor j := n - 1; j >= 0; j--{\n",
        "\t    fmt.Print(seq[j], \" \")\n",
        "\t}\n",
        "\t    max := 0\n",
        "\tfor _, maior := range seq{\n",
        "\t    if(maior > max){\n",
        "\t        max = maior\n",
        "\t    }\n",
        "\t}\n",
        "\tfmt.Print(\"\\n\", max)\n",
        "\t    min := max\n",
        "\tfor _, menor := range seq{\n",
        "\t    if(menor < min){\n",
        "\t        min = menor\n",
        "\t    }\n",
        "\t}\n",
        "\tfmt.Print(\"\\n\", min)\n",
        "}\n",
        "}"
      ],
      "metadata": {
        "id": "g-nGvM1pktbY"
      },
      "execution_count": null,
      "outputs": []
    },
    {
      "cell_type": "markdown",
      "source": [
        "12-"
      ],
      "metadata": {
        "id": "SNFVozNxktsQ"
      }
    },
    {
      "cell_type": "code",
      "source": [
        "package main\n",
        "import \"fmt\"\n",
        "\n",
        "func main() {\n",
        "    var m int\n",
        "\n",
        "    fmt.Scanln(&m)\n",
        "    seq := make([]int, m)\n",
        "\n",
        "    if(m > 1 && m <= 1000){\n",
        "        for i := 0; i < m; i++ {\n",
        "            fmt.Scan(&seq[i])\n",
        "        }\n",
        "        BubbleSort(seq)\n",
        "        fmt.Println(seq)\n",
        "    }\n",
        "}\n",
        "\n",
        "func BubbleSort(l []int) {\n",
        "    n := len(l)\n",
        "\n",
        "    for i := 0; i < n-1; i++ {\n",
        "        for j := 0; j < n-i-1; j++ {\n",
        "            if l[j] > l[j+1] {\n",
        "                l[j], l[j+1] = l[j+1], l[j]\n",
        "            }\n",
        "        }\n",
        "    }\n",
        "}"
      ],
      "metadata": {
        "id": "ApK2AWIPkt2A"
      },
      "execution_count": null,
      "outputs": []
    },
    {
      "cell_type": "markdown",
      "source": [
        "13-"
      ],
      "metadata": {
        "id": "9_qdwmvPkt-w"
      }
    },
    {
      "cell_type": "code",
      "source": [
        "package main\n",
        "import \"fmt\"\n",
        "\n",
        "func main() {\n",
        "    var m int\n",
        "\n",
        "    fmt.Scanln(&m)\n",
        "    seq := make([]int, m)\n",
        "\n",
        "    if(m >= 1 && m <= 1000000){\n",
        "        for i := 0; i < m; i++ {\n",
        "            fmt.Scanln(&seq[i])\n",
        "            if(seq[i]<0||seq[i]>100){\n",
        "                break\n",
        "            }\n",
        "        }\n",
        "    verif := make(map[int]int)\n",
        "\n",
        "    for _, cont := range seq {\n",
        "        verif[cont]++\n",
        "    }\n",
        "\n",
        "        max := 0\n",
        "        maisRepete := 0\n",
        "        for cont, cont2 := range verif {\n",
        "            if cont2 > max {\n",
        "                max = cont2\n",
        "                maisRepete = cont\n",
        "            }\n",
        "        }\n",
        "        fmt.Println(\"\\n\", maisRepete, \"\\n\", max)\n",
        "    }\n",
        "}"
      ],
      "metadata": {
        "id": "AZBeV55OkuGo"
      },
      "execution_count": null,
      "outputs": []
    },
    {
      "cell_type": "markdown",
      "source": [
        "14-"
      ],
      "metadata": {
        "id": "RvOqS2pckuPx"
      }
    },
    {
      "cell_type": "code",
      "source": [
        "package main\n",
        "import \"fmt\"\n",
        "import \"sort\"\n",
        "\n",
        "func main() {\n",
        "\tvar n int\n",
        "\tfmt.Scanln(&n)\n",
        "  if(n > 1 && n <= 1000000){\n",
        "\tseq:= make([]int, n)\n",
        "\tfor i := 0; i < n; i++ {\n",
        "\t\tfmt.Scan(&seq[i])\n",
        "\t}\n",
        "\tsort.Ints(seq)\n",
        "\tmediana := calcularMedia(seq)\n",
        "\n",
        "\tfmt.Printf(\"%.2f\\n\", mediana)\n",
        "  }\n",
        "}\n",
        "\n",
        "func calcularMedia(seq []int) float64 {\n",
        "\tn := len(seq)\n",
        "\tif n%2 == 1 {\n",
        "\t\treturn float64(seq[n/2])\n",
        "\t} else {\n",
        "\t\tn1 := float64(seq[n/2-1])\n",
        "\t\tn2 := float64(seq[n/2])\n",
        "\t\treturn (n1 + n2) / 2\n",
        "\t}\n",
        "}"
      ],
      "metadata": {
        "id": "X8ONfTtgkuYA"
      },
      "execution_count": null,
      "outputs": []
    },
    {
      "cell_type": "markdown",
      "source": [
        "15-"
      ],
      "metadata": {
        "id": "lxoSCsmBkufg"
      }
    },
    {
      "cell_type": "code",
      "source": [
        "package main\n",
        "import \"fmt\"\n",
        "import \"math\"\n",
        "\n",
        "func main() {\n",
        "\tvar T, n int\n",
        "\n",
        "\tfmt.Scan(&T)\n",
        "  if(T >= 1 && T <= 10){\n",
        "\tfor x := 0; x < T; x++ {\n",
        "\t\tfmt.Scan(&n)\n",
        "\t\tseq := make([]int, n)\n",
        "\n",
        "    if(n >= 2 && n <= 1000){\n",
        "\t\tfor i := 0; i < n; i++ {\n",
        "\t\t\tfmt.Scan(&seq[i])\n",
        "\t\t}\n",
        "\n",
        "\t\tmenorD := math.MaxInt64\n",
        "\t\tcont := 0\n",
        "\n",
        "\t\tfor i := 0; i < n-1; i++ {\n",
        "\t\t\tfor j := i + 1; j < n; j++ {\n",
        "\t\t\t\t  cont++\n",
        "\t\t\t\tdistan := int(math.Abs(float64(seq[i] - seq[j])))\n",
        "\t\t\t\tif(distan < menorD){\n",
        "\t\t\t\t\tmenorD = distan\n",
        "\t\t\t\t}\n",
        "\t\t\t}\n",
        "\t\t}\n",
        "\t\t  fmt.Print(menorD, cont)\n",
        "\t  }\n",
        "\t  }\n",
        "    }\n",
        "}"
      ],
      "metadata": {
        "id": "6xSGGFPWkumo"
      },
      "execution_count": null,
      "outputs": []
    },
    {
      "cell_type": "markdown",
      "source": [
        "16"
      ],
      "metadata": {
        "id": "d8iKduW2kutw"
      }
    },
    {
      "cell_type": "code",
      "source": [
        "package main\n",
        "import \"fmt\"\n",
        "\n",
        "func main() {\n",
        "\n",
        "    var n, k int\n",
        "\n",
        "    fmt.Scan(&n, &k)\n",
        "    seq := make([]int, n)\n",
        "\n",
        "    if(n >= 1 && n <= 1000 && k >= 1 && k <= 1000){\n",
        "        cont:=0\n",
        "        for x := 0; x < n; x++ {\n",
        "            fmt.Scan(&seq[x])\n",
        "            if(seq[x] <= 0){\n",
        "                cont++\n",
        "            }\n",
        "        }\n",
        "        if(cont >= k){\n",
        "            fmt.Println(\"NÃO\")\n",
        "\n",
        "          for i := n - 1; i >= 0; i-- {\n",
        "\t\t\t      if(seq[i] <= 0){\n",
        "\t\t\t        fmt.Print(n - i, \" \")\n",
        "\t\t\t      }\n",
        "\t\t      }\n",
        "        }else{\n",
        "            fmt.Println(\"SIM\")\n",
        "        }\n",
        "    }\n",
        "}"
      ],
      "metadata": {
        "id": "Bg82PeEXku05"
      },
      "execution_count": null,
      "outputs": []
    },
    {
      "cell_type": "markdown",
      "source": [
        "17-"
      ],
      "metadata": {
        "id": "IuX97ZSCku7y"
      }
    },
    {
      "cell_type": "code",
      "source": [
        "package main\n",
        "import \"fmt\"\n",
        "\n",
        "func main() {\n",
        "    var m int\n",
        "\n",
        "    fmt.Scanln(&m)\n",
        "    seq := make([]int, m)\n",
        "\n",
        "    if(m >= 1 && m < 5000){\n",
        "        for i := 0; i < m; i++ {\n",
        "            fmt.Scan(&seq[i])\n",
        "        }\n",
        "\n",
        "    verif := make(map[int]int)\n",
        "\n",
        "        for _, cont := range seq {\n",
        "            verif[cont]++\n",
        "        }\n",
        "\n",
        "        Nunico := 0\n",
        "        for _, cont2 := range verif{\n",
        "            if(cont2 == 1){\n",
        "                Nunico++\n",
        "            }\n",
        "        }\n",
        "        fmt.Println(\"\\n\", Nunico)\n",
        "    }\n",
        "}"
      ],
      "metadata": {
        "id": "xeE4sL5EkvCv"
      },
      "execution_count": null,
      "outputs": []
    },
    {
      "cell_type": "markdown",
      "source": [
        "18-"
      ],
      "metadata": {
        "id": "lJwxrXs7k3Cm"
      }
    },
    {
      "cell_type": "code",
      "source": [
        "package main\n",
        "import \"fmt\"\n",
        "\n",
        "func main() {\n",
        "\n",
        "    var m, b1, b2 int\n",
        "\n",
        "    fmt.Scanln(&m)\n",
        "\n",
        "    for x := 0; x < m; x++ {\n",
        "        seq := make([]int, 11)\n",
        "        for i := 0; i < 11; i++ {\n",
        "            fmt.Scan(&seq[i])\n",
        "        }\n",
        "        soma1 := seq[0]+(seq[1]*2)+(seq[2]*3)+(seq[3]*4)+(seq[4]*5)+(seq[5]*6)+(seq[6]*7)+(seq[7]*8)+(seq[8]*9)\n",
        "        soma2 := seq[8]+(seq[7]*2)+(seq[6]*3)+(seq[5]*4)+(seq[4]*5)+(seq[3]*6)+(seq[2]*7)+(seq[1]*8)+(seq[0]*9)\n",
        "\n",
        "        if(soma1%11 < 10){\n",
        "            b1 = soma1%11\n",
        "        }else{\n",
        "            b1 = 0\n",
        "        }\n",
        "        if(soma2%11 < 10){\n",
        "            b2 = soma2%11\n",
        "        }else{\n",
        "            b2 = 0\n",
        "        }\n",
        "\n",
        "        if(seq[9] == b1 && seq[10] == b2){\n",
        "            fmt.Println(\"CPF Valido\")\n",
        "        }else{\n",
        "            fmt.Println(\"CPF Invalido\")\n",
        "        }\n",
        "    }\n",
        "}"
      ],
      "metadata": {
        "id": "69Zj-gdEk3KX"
      },
      "execution_count": null,
      "outputs": []
    },
    {
      "cell_type": "markdown",
      "source": [
        "19-"
      ],
      "metadata": {
        "id": "IgU_sWElk3Q3"
      }
    },
    {
      "cell_type": "code",
      "source": [
        "package main\n",
        "import \"fmt\"\n",
        "\n",
        "func main() {\n",
        "    var m, n int\n",
        "\n",
        "    fmt.Scanln(&m)\n",
        "    verif := make(map[int]bool)\n",
        "\n",
        "    if(m >= 1 && m <= 1000){\n",
        "        for i := 0; i < m; i++ {\n",
        "            fmt.Scan(&n)\n",
        "            if _, restringe := verif[n]; !restringe {\n",
        "\t\t\t    verif[n] = true\n",
        "\t\t    }\n",
        "\n",
        "        for x := range verif{\n",
        "            fmt.Print(x,\" \")\n",
        "        }\n",
        "    }\n",
        "}"
      ],
      "metadata": {
        "id": "oaoIuNn-k3X2"
      },
      "execution_count": null,
      "outputs": []
    },
    {
      "cell_type": "markdown",
      "source": [
        "21-"
      ],
      "metadata": {
        "id": "_Wpyaqe0k7Cu"
      }
    },
    {
      "cell_type": "code",
      "source": [
        "package main\n",
        "import \"fmt\"\n",
        "import \"sort\"\n",
        "\n",
        "func main() {\n",
        "\tvar n int\n",
        "\tfmt.Scanln(&n)\n",
        "if(n>1&&n<100000){\n",
        "\tseq := make([]int, n)\n",
        "\tfor i := 0; i < n; i++ {\n",
        "\t\tfmt.Scanln(&seq[i])\n",
        "\t}\n",
        "\n",
        "\tvar par, impar []int\n",
        "\tfor _, separar := range seq {\n",
        "\t\tif separar%2 == 0 {\n",
        "\t\t\tpar = append(par, separar)\n",
        "\t\t} else {\n",
        "\t\t\timpar = append(impar, separar)\n",
        "\t\t}\n",
        "\t}\n",
        "\tsort.Ints(par)\n",
        "\tsort.Sort(sort.Reverse(sort.IntSlice(impar)))\n",
        "\n",
        "\tfor _, separar := range par {\n",
        "\t\tfmt.Println(separar)\n",
        "\t}\n",
        "\n",
        "\tfor _, separar := range impar {\n",
        "\t\tfmt.Println(separar)\n",
        "\t}\n",
        "}\n",
        "}"
      ],
      "metadata": {
        "id": "2YEkhsnik7Lv"
      },
      "execution_count": null,
      "outputs": []
    },
    {
      "cell_type": "markdown",
      "source": [
        "22-"
      ],
      "metadata": {
        "id": "odWr9gRPk7Sv"
      }
    },
    {
      "cell_type": "code",
      "source": [
        "package main\n",
        "import \"fmt\"\n",
        "\n",
        "func main() {\n",
        "\tvar n, d int\n",
        "\n",
        "\tfor {\n",
        "\t\tfmt.Scanln(&n, &d)\n",
        "\t\tif(n>d && n<=105 && d>=1){\n",
        "\t\tif n == 0 && d == 0 {\n",
        "\t\t\tbreak\n",
        "\t\t}\n",
        "\n",
        "\t\tvar num string\n",
        "\t\tfmt.Scanln(&num)\n",
        "\n",
        "\t\tfmt.Println(calculoMaior(num, d))\n",
        "\t    }\n",
        "    }\n",
        "\n",
        "}\n",
        "func calculoMaior(num string, d int) string {\n",
        "\tstack := make([]byte, 0)\n",
        "\n",
        "\tfor i := 0; i < len(num); i++ {\n",
        "\t\tfor d > 0 && len(stack) > 0 && stack[len(stack)-1] < num[i] {\n",
        "\t\t\tstack = stack[:len(stack)-1]\n",
        "\t\t\td--\n",
        "\t\t}\n",
        "\t\tstack = append(stack, num[i])\n",
        "\t}\n",
        "\n",
        "\tstack = stack[:len(stack)-d]\n",
        "\n",
        "\treturn string(stack)\n",
        "}"
      ],
      "metadata": {
        "id": "KP9xBFSRk7ZP"
      },
      "execution_count": null,
      "outputs": []
    },
    {
      "cell_type": "markdown",
      "source": [
        "24-"
      ],
      "metadata": {
        "id": "ez4FLHgvk7xA"
      }
    },
    {
      "cell_type": "code",
      "source": [
        "package main\n",
        "import \"fmt\"\n",
        "\n",
        "func main() {\n",
        "\n",
        "\tvar n int\n",
        "\n",
        "\tfor {\n",
        "\t\tfmt.Scanln(&n)\n",
        "\t\tif(n == 0){\n",
        "\t\t\tbreak\n",
        "\t\t}\n",
        "\t\tif(n>1&& n<=10000){\n",
        "\n",
        "\t\tseq := make([]int, n)\n",
        "\t\tfor i := 0; i < n; i++ {\n",
        "\t\t\tfmt.Scan(&seq[i])\n",
        "\t\t}\n",
        "\n",
        "\t\tsorted := countingSort(seq)\n",
        "\n",
        "\t\tfor i, num := range sorted {\n",
        "\t\t\tfmt.Print(num)\n",
        "\t\t\tif i < len(sorted)-1 {\n",
        "\t\t\t\tfmt.Print(\" \")\n",
        "\t\t\t}\n",
        "\t\t}\n",
        "\t\tfmt.Println()\n",
        "\t}\n",
        "}\n",
        "\n",
        "func countingSort(seq []int) []int {\n",
        "\tmax := seq[0]\n",
        "\tfor _, num := range seq {\n",
        "\t\tif num > max {\n",
        "\t\t\tmax = num\n",
        "\t\t}\n",
        "\t}\n",
        "\tcount := make([]int, max+1)\n",
        "\tsorted := make([]int, len(seq))\n",
        "\n",
        "\tfor _, num := range seq {\n",
        "\t\tcount[num]++\n",
        "\t}\n",
        "\n",
        "\tfor i := 1; i <= max; i++ {\n",
        "\t\tcount[i] += count[i-1]\n",
        "\t}\n",
        "\n",
        "\tfor _, num := range seq {\n",
        "\t\tsorted[count[num]-1] = num\n",
        "\t\tcount[num]--\n",
        "\t}\n",
        "\treturn sorted\n",
        "}"
      ],
      "metadata": {
        "id": "irx1fOUZk72g"
      },
      "execution_count": null,
      "outputs": []
    },
    {
      "cell_type": "markdown",
      "source": [
        "25-"
      ],
      "metadata": {
        "id": "zWlTw2jfk77f"
      }
    },
    {
      "cell_type": "code",
      "source": [
        "package main\n",
        "import \"fmt\"\n",
        "\n",
        "func main() {\n",
        "\n",
        "\tvar n int\n",
        "\tnumerosSorteados:= make([]int, 6)\n",
        "\n",
        "\tfor i := 0; i < n; i++ {\n",
        "\t\tfmt.Scan(&numerosSorteados[i])\n",
        "\t}\n",
        "\n",
        "\tfmt.Scanln(&n)\n",
        "    if(n>=1 && n<=50000){\n",
        "\tsenaCont := 0\n",
        "\tquinaCont := 0\n",
        "\tquadraCont := 0\n",
        "\n",
        "\tfor i := 0; i < n; i++ {\n",
        "\t\tvar aposta [6]int\n",
        "\t\tfor j := range aposta {\n",
        "\t\t\tfmt.Scan(&aposta[j])\n",
        "\t\t}\n",
        "\n",
        "\t\tcont := 0\n",
        "\t\tfor _, num:= range numerosSorteados {\n",
        "\t\t\tfor _, apostaNum := range aposta {\n",
        "\t\t\t\tif num == apostaNum {\n",
        "\t\t\t\t\tcont++\n",
        "\t\t\t\t\tbreak\n",
        "\t\t\t\t}\n",
        "\t\t\t}\n",
        "\t\t}\n",
        "\t\tswitch cont {\n",
        "\t\tcase 6:\n",
        "\t\t\tsenaCont++\n",
        "\t\tcase 5:\n",
        "\t\t\tquinaCont++\n",
        "\t\tcase 4:\n",
        "\t\t\tquadraCont++\n",
        "\t\t}\n",
        "\t}\n",
        "\tResultado(\"sena\", senaCont)\n",
        "\tResultado(\"quina\", quinaCont)\n",
        "\tResultado(\"quadra\", quadraCont)\n",
        "}\n",
        "}\n",
        "\n",
        "func Resultado(categoria string, cont int) {\n",
        "\tif cont > 0 {\n",
        "\t\tfmt.Printf(\"Houve %d acertador(es) da %s\\n\", cont, categoria)\n",
        "\t} else {\n",
        "\t\tfmt.Printf(\"Nao houve acertador para %s\\n\", categoria)\n",
        "\t}\n",
        "}"
      ],
      "metadata": {
        "id": "a0D0EWwXk8Ab"
      },
      "execution_count": null,
      "outputs": []
    },
    {
      "cell_type": "markdown",
      "source": [
        "26-"
      ],
      "metadata": {
        "id": "ZL-VKgfIk8E_"
      }
    },
    {
      "cell_type": "code",
      "source": [
        "package main\n",
        "import \"fmt\"\n",
        "\n",
        "func main() {\n",
        "\tvar n int\n",
        "\tfmt.Scanln(&n)\n",
        "\n",
        "\tfor t := 0; t < n; t++ {\n",
        "\t    var seq [9]int\n",
        "\t\tfor i := 0; i < 9; i++ {\n",
        "\t\t\tfmt.Scanln(&seq[i])\n",
        "\t\t}\n",
        "\n",
        "\t\tfor i := 0; i < 9; i++ {\n",
        "\t\t\tfor j := i + 1; j < 9; j++ {\n",
        "\t\t\t\tcont := 0\n",
        "\t\t\t\tfor k := 0; k < 9; k++ {\n",
        "\t\t\t\t\tif k != i && k != j {\n",
        "\t\t\t\t\t\tcont += seq[k]\n",
        "\t\t\t\t\t}\n",
        "\t\t\t\t}\n",
        "\t\t\t\tif cont == 100 {\n",
        "\t\t\t\t\tcalculocorreto(seq, i, j)\n",
        "\t\t\t\t\tbreak\n",
        "\t\t\t\t}\n",
        "\t\t\t}\n",
        "\t\t}\n",
        "\t}\n",
        "}\n",
        "\n",
        "func calculocorreto(seq [9]int, i, j int) {\n",
        "\tfor k := 0; k < 9; k++ {\n",
        "\t\tif k != i && k != j {\n",
        "\t\t\tfmt.Println(seq[k])\n",
        "\t\t}\n",
        "\t}\n",
        "}"
      ],
      "metadata": {
        "id": "6C762BUnk8Jm"
      },
      "execution_count": null,
      "outputs": []
    },
    {
      "cell_type": "markdown",
      "source": [
        "27"
      ],
      "metadata": {
        "id": "fRQnc9HXlCTc"
      }
    },
    {
      "cell_type": "code",
      "source": [
        "package main\n",
        "import \"fmt\"\n",
        "\n",
        "func main() {\n",
        "\tvar q1, q2 int\n",
        "\tfmt.Scan(&q1, &q2)\n",
        "    if(q1>0 && q1<=500000 && q2>0 && q2<=500000){\n",
        "\tV1 := make([]int, q1)\n",
        "\tV2 := make([]int, q2)\n",
        "\n",
        "\tfor i := 0; i < q1; i++ {\n",
        "\t\tfmt.Scan(&V1[i])\n",
        "\t}\n",
        "\n",
        "\tfor i := 0; i < q2; i++ {\n",
        "\t\tfmt.Scan(&V2[i])\n",
        "\t}\n",
        "\tVr := intercalar(V1, V2)\n",
        "\n",
        "\tfor _, v := range Vr {\n",
        "\t\tfmt.Println(v)\n",
        "\t}\n",
        "    }\n",
        "}\n",
        "func intercalar(V1 []int, V2 []int) []int {\n",
        "\tvar Vr []int\n",
        "\ti, j := 0, 0\n",
        "\n",
        "\tfor i < len(V1) && j < len(V2) {\n",
        "\t\tif V1[i] < V2[j] {\n",
        "\t\t\tVr = append(Vr, V1[i])\n",
        "\t\t\ti++\n",
        "\t\t} else {\n",
        "\t\t\tVr = append(Vr, V2[j])\n",
        "\t\t\tj++\n",
        "\t\t}\n",
        "\t}\n",
        "\n",
        "\tfor i < len(V1) {\n",
        "\t\tVr = append(Vr, V1[i])\n",
        "\t\ti++\n",
        "\t}\n",
        "\n",
        "\tfor j < len(V2) {\n",
        "\t\tVr = append(Vr, V2[j])\n",
        "\t\tj++\n",
        "\t}\n",
        "\n",
        "\treturn Vr\n",
        "}"
      ],
      "metadata": {
        "id": "c8BP1P9VlCdE"
      },
      "execution_count": null,
      "outputs": []
    },
    {
      "cell_type": "markdown",
      "source": [
        "28-"
      ],
      "metadata": {
        "id": "2IoKCuaalCmM"
      }
    },
    {
      "cell_type": "code",
      "source": [
        "package main\n",
        "import\"fmt\"\n",
        "\n",
        "func main() {\n",
        "\tvar TA, TB int\n",
        "\tfor {\n",
        "\t\tfmt.Scan(&TA)\n",
        "\t\tif TA >= 1 && TA <= 100 {\n",
        "\t\t\tbreak\n",
        "\t\t}\n",
        "\t\tfmt.Println(\"Tamanho inválido\")\n",
        "\t}\n",
        "\tfor {\n",
        "\t\tfmt.Scan(&TB)\n",
        "\t\tif TB >= 1 && TB <= 100 {\n",
        "\t\t\tbreak\n",
        "\t\t}\n",
        "\t\tfmt.Println(\"Tamanho inválido\")\n",
        "\t}\n",
        "\n",
        "\tA := make(map[int]bool)\n",
        "\tB := make(map[int]bool)\n",
        "\n",
        "\tfor i := 0; i < TA; i++ {\n",
        "\t\tvar elem int\n",
        "\t\tfor {\n",
        "\t\t\tfmt.Scan(&elem)\n",
        "\t\t\tif !A[elem] {\n",
        "\t\t\t\tA[elem] = true\n",
        "\t\t\t\tbreak\n",
        "\t\t\t}\n",
        "\t\t\tfmt.Println(\"Elemento repetido. Digite um elemento diferente:\")\n",
        "\t\t}\n",
        "\t}\n",
        "\tfor i := 0; i < TB; i++ {\n",
        "\t\tvar elem int\n",
        "\t\tfor {\n",
        "\t\t\tfmt.Scan(&elem)\n",
        "\t\t\tif !B[elem] {\n",
        "\t\t\t\tB[elem] = true\n",
        "\t\t\t\tbreak\n",
        "\t\t\t}\n",
        "\t\t}\n",
        "\t}\n",
        "\n",
        "\tunia := make(map[int]bool)\n",
        "\tinterse := make(map[int]bool)\n",
        "\n",
        "\tfor elem := range A {\n",
        "\t\tunia[elem] = true\n",
        "\t}\n",
        "\tfor elem := range B {\n",
        "\t\tunia[elem] = true\n",
        "\t}\n",
        "\tfor elem := range A {\n",
        "\t\tif B[elem] {\n",
        "\t\t\tinterse[elem] = true\n",
        "\t\t}\n",
        "\t}\n",
        "\n",
        "\tfmt.Print(\"A∪B: (\")\n",
        "\tfor elem := range unia {\n",
        "\t\tfmt.Printf(\"%d,\", elem)\n",
        "\t}\n",
        "\tfmt.Println(\")\")\n",
        "\n",
        "\tfmt.Print(\"A∩B: (\")\n",
        "\tfor elem := range interse {\n",
        "\t\tfmt.Printf(\"%d,\", elem)\n",
        "\t}\n",
        "\tfmt.Println(\")\")\n",
        "}\n"
      ],
      "metadata": {
        "id": "KYeyZ4fWlCuE"
      },
      "execution_count": null,
      "outputs": []
    }
  ]
}